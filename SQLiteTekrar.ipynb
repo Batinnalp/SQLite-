{
  "nbformat": 4,
  "nbformat_minor": 0,
  "metadata": {
    "colab": {
      "provenance": [],
      "authorship_tag": "ABX9TyNd07nmTw41F8HjPtq1hcJ+",
      "include_colab_link": true
    },
    "kernelspec": {
      "name": "python3",
      "display_name": "Python 3"
    },
    "language_info": {
      "name": "python"
    }
  },
  "cells": [
    {
      "cell_type": "markdown",
      "metadata": {
        "id": "view-in-github",
        "colab_type": "text"
      },
      "source": [
        "<a href=\"https://colab.research.google.com/github/Batinnalp/SQLite-/blob/main/SQLiteTekrar.ipynb\" target=\"_parent\"><img src=\"https://colab.research.google.com/assets/colab-badge.svg\" alt=\"Open In Colab\"/></a>"
      ]
    },
    {
      "cell_type": "code",
      "execution_count": null,
      "metadata": {
        "colab": {
          "base_uri": "https://localhost:8080/"
        },
        "id": "eH2KprLZtLLd",
        "outputId": "c2e5be6e-ac22-403c-b157-8dfdd95bde47"
      },
      "outputs": [
        {
          "output_type": "stream",
          "name": "stdout",
          "text": [
            "Veritabanına bağlanıldı...\n"
          ]
        }
      ],
      "source": [
        "import sqlite3\n",
        "conn = sqlite3.connect(\"batin.db\")\n",
        "cursor = conn.cursor()\n",
        "print(\"Veritabanına bağlanıldı...\")"
      ]
    },
    {
      "cell_type": "code",
      "source": [
        "cursor.execute(\"\"\"\n",
        "create table if not exists kitaplar (\n",
        "  id integer primary key autoincrement,\n",
        "  ad text not null,\n",
        "  yazar text,\n",
        "  yil integer,\n",
        "  tur text\n",
        ")\n",
        "\"\"\")\n",
        "print(\"Kitaplar tablosu oluşturuldu.\")"
      ],
      "metadata": {
        "colab": {
          "base_uri": "https://localhost:8080/"
        },
        "id": "R4by51Y4te-B",
        "outputId": "385551fd-678a-4105-8f87-85a7c32b168b"
      },
      "execution_count": null,
      "outputs": [
        {
          "output_type": "stream",
          "name": "stdout",
          "text": [
            "Kitaplar tablosu oluşturuldu.\n"
          ]
        }
      ]
    },
    {
      "cell_type": "code",
      "source": [
        "cursor.execute(\"\"\"\n",
        "insert into kitaplar (ad, yazar, yil, tur)\n",
        "values ('Suç ve Ceza', 'Dostoyevski', 1866, 'Roman')\n",
        "\"\"\")\n",
        "\n",
        "conn.commit()\n",
        "print(\"Veri eklendi!\")"
      ],
      "metadata": {
        "colab": {
          "base_uri": "https://localhost:8080/"
        },
        "id": "3Ie44k73uezW",
        "outputId": "f126948b-becc-4fc7-dc4a-21bafe67db3b"
      },
      "execution_count": null,
      "outputs": [
        {
          "output_type": "stream",
          "name": "stdout",
          "text": [
            "Veri eklendi!\n"
          ]
        }
      ]
    },
    {
      "cell_type": "code",
      "source": [
        "cursor.execute(\"\"\"\n",
        "delete from kitaplar\n",
        "where ad = 'Suç ve Ceza'\n",
        "and id not in (\n",
        "  select min(id)\n",
        "  from kitaplar\n",
        "  where ad = 'Suç ve Ceza'\n",
        ")\n",
        "\"\"\")\n",
        "conn.commit()"
      ],
      "metadata": {
        "id": "Mtqv4HMESwVF"
      },
      "execution_count": null,
      "outputs": []
    },
    {
      "cell_type": "code",
      "source": [
        "cursor.execute(\"select * from kitaplar\")\n",
        "veriler = cursor.fetchall()\n",
        "for v in veriler:\n",
        "  print(v)"
      ],
      "metadata": {
        "colab": {
          "base_uri": "https://localhost:8080/"
        },
        "id": "ZGmBqtkg1Gpi",
        "outputId": "460a7788-033f-406a-8886-88e8ead0f7e2"
      },
      "execution_count": null,
      "outputs": [
        {
          "output_type": "stream",
          "name": "stdout",
          "text": [
            "(1, 'Suç ve Ceza', 'Dostoyevski', 1866, 'Roman')\n"
          ]
        }
      ]
    },
    {
      "cell_type": "code",
      "source": [
        "kitap_listesi = [\n",
        "    (\"Kürk Mantolu Madonna\", \"Sabahattin Ali\", 1943, \"Roman\"),\n",
        "    (\"Sefiller\", \"Victor Hugo\", 1862, \"Roman\"),\n",
        "    (\"Fareler ve İnsanlar\", \"John Steinbeck\", 1937, \"Roman\"),\n",
        "    (\"Şeker Portakalı\", \"Jose Mauro de Vasconcelos\", 1968, \"Roman\"),\n",
        "    (\"Satranç\", \"Stefan Zweig\", 1941, \"Novella\"),\n",
        "    (\"İnce Memed\", \"Yaşar Kemal\", 1955, \"Roman\"),\n",
        "    (\"Dönüşüm\", \"Franz Kafka\", 1915, \"Novella\"),\n",
        "    (\"Bülbülü Öldürmek\", \"Harper Lee\", 1960, \"Roman\"),\n",
        "    (\"Yüzüklerin Efendisi\", \"J.R.R Tolkien\", 1954, \"Fantastik\")\n",
        "]\n",
        "\n",
        "cursor.executemany(\"\"\"\n",
        "insert into kitaplar (ad, yazar, yil, tur)\n",
        "values (?, ?, ?, ?)\n",
        "\"\"\", kitap_listesi)\n",
        "\n",
        "conn.commit()\n",
        "\n",
        "print(\"9 kitap başarıyla eklendi\")"
      ],
      "metadata": {
        "id": "rLaveiIC12uN",
        "colab": {
          "base_uri": "https://localhost:8080/"
        },
        "outputId": "78023c3f-621e-49a1-b319-bcb7c82e8bde"
      },
      "execution_count": null,
      "outputs": [
        {
          "output_type": "stream",
          "name": "stdout",
          "text": [
            "9 kitap başarıyla eklendi\n"
          ]
        }
      ]
    },
    {
      "cell_type": "code",
      "source": [
        "cursor.execute(\"select * from kitaplar\")\n",
        "veriler = cursor.fetchall()\n",
        "for v in veriler:\n",
        "  print(v)"
      ],
      "metadata": {
        "colab": {
          "base_uri": "https://localhost:8080/"
        },
        "id": "csnJXf4tVasM",
        "outputId": "39786a1e-8ec2-4c50-bbb2-fe4d16a4475d"
      },
      "execution_count": null,
      "outputs": [
        {
          "output_type": "stream",
          "name": "stdout",
          "text": [
            "(1, 'Suç ve Ceza', 'Dostoyevski', 1866, 'Roman')\n",
            "(2, 'Kürk Mantolu Madonna', 'Sabahattin Ali', 1943, 'Roman')\n",
            "(3, 'Sefiller', 'Victor Hugo', 1862, 'Roman')\n",
            "(4, 'Fareler ve İnsanlar', 'John Steinbeck', 1937, 'Roman')\n",
            "(5, 'Şeker Portakalı', 'Jose Mauro de Vasconcelos', 1968, 'Roman')\n",
            "(6, 'Satranç', 'Stefan Zweig', 1941, 'Novella')\n",
            "(7, 'İnce Memed', 'Yaşar Kemal', 1955, 'Roman')\n",
            "(8, 'Dönüşüm', 'Franz Kafka', 1915, 'Novella')\n",
            "(9, 'Bülbülü Öldürmek', 'Harper Lee', 1960, 'Roman')\n",
            "(10, 'Yüzüklerin Efendisi', 'J.R.R Tolkien', 1954, 'Fantastik')\n"
          ]
        }
      ]
    },
    {
      "cell_type": "code",
      "source": [
        "cursor.execute(\"select * from kitaplar where yil > 1960\")\n",
        "sonuclar = cursor.fetchall()\n",
        "\n",
        "for s in sonuclar:\n",
        "  print(s)"
      ],
      "metadata": {
        "colab": {
          "base_uri": "https://localhost:8080/"
        },
        "id": "JMyp5EztVcyK",
        "outputId": "77dfc964-52e2-4397-e93d-6a1b1f2d5660"
      },
      "execution_count": null,
      "outputs": [
        {
          "output_type": "stream",
          "name": "stdout",
          "text": [
            "(5, 'Şeker Portakalı', 'Jose Mauro de Vasconcelos', 1968, 'Roman')\n"
          ]
        }
      ]
    },
    {
      "cell_type": "code",
      "source": [
        "cursor.execute(\"\"\"\n",
        "update kitaplar\n",
        "set yil = 1956\n",
        "where ad = 'İnce Memed'\n",
        "\"\"\")\n",
        "conn.commit()"
      ],
      "metadata": {
        "id": "VwLX1TlqXHBw"
      },
      "execution_count": null,
      "outputs": []
    },
    {
      "cell_type": "code",
      "source": [
        "cursor.execute(\"delete from kitaplar where ad = 'Bülbülü Öldürmek'\")\n",
        "conn.commit()\n"
      ],
      "metadata": {
        "id": "PxT4_4XIXvtK"
      },
      "execution_count": null,
      "outputs": []
    },
    {
      "cell_type": "code",
      "source": [
        "cursor.execute(\"\"\"\n",
        "create table if not exists sahipler (\n",
        "  id integer primary key autoincrement,\n",
        "  ad text not null,\n",
        "  kitap_id integer,\n",
        "  foreign key(kitap_id) references kitaplar(id)\n",
        ")\n",
        "\"\"\")\n",
        "\n",
        "cursor.execute(\"insert into sahipler (ad, kitap_id) values ('Ahmet', 1)\")\n",
        "cursor.execute(\"insert into sahipler (ad, kitap_id) values ('Ayşe', 2)\")\n",
        "conn.commit()"
      ],
      "metadata": {
        "id": "jez5mtOBZMCM"
      },
      "execution_count": null,
      "outputs": []
    },
    {
      "cell_type": "code",
      "source": [
        "cursor.execute(\"\"\"\n",
        "select sahipler.ad, kitaplar.ad\n",
        "from sahipler\n",
        "inner join kitaplar on sahipler.kitap_id = kitaplar.id\n",
        "\"\"\")\n",
        "\n",
        "for row in cursor.fetchall():\n",
        "  print(row)"
      ],
      "metadata": {
        "colab": {
          "base_uri": "https://localhost:8080/"
        },
        "id": "qJk8Twemh25h",
        "outputId": "99442cf6-cde5-4aef-9bc5-406c92baa5e0"
      },
      "execution_count": null,
      "outputs": [
        {
          "output_type": "stream",
          "name": "stdout",
          "text": [
            "('Ahmet', 'Suç ve Ceza')\n",
            "('Ayşe', 'Kürk Mantolu Madonna')\n"
          ]
        }
      ]
    },
    {
      "cell_type": "code",
      "source": [
        "cursor.execute(\"create index if not exists idx_yazar on kitaplar(yazar)\")\n",
        "print(\"Yazar alanına indeks eklendi\")"
      ],
      "metadata": {
        "colab": {
          "base_uri": "https://localhost:8080/"
        },
        "id": "mmrIIKo8m-92",
        "outputId": "46df4771-9694-4313-c31e-d8972c91b43a"
      },
      "execution_count": null,
      "outputs": [
        {
          "output_type": "stream",
          "name": "stdout",
          "text": [
            "Yazar alanına indeks eklendi\n"
          ]
        }
      ]
    },
    {
      "cell_type": "code",
      "source": [
        "cursor.execute(\"\"\"\n",
        "select yazar, count(*) as adet\n",
        "from kitaplar\n",
        "group by yazar\n",
        "having count(*) >= 2\n",
        "\"\"\")\n",
        "\n",
        "for row in cursor.fetchall():\n",
        "  print(row)"
      ],
      "metadata": {
        "id": "KBeTmkdRobS0"
      },
      "execution_count": null,
      "outputs": []
    },
    {
      "cell_type": "code",
      "source": [
        "cursor.execute(\"Select * from kitaplar order by yil asc\")\n",
        "for row in cursor.fetchall():\n",
        "  print(row)"
      ],
      "metadata": {
        "colab": {
          "base_uri": "https://localhost:8080/"
        },
        "id": "5nnXhVcVr1KX",
        "outputId": "8517faf2-eaaf-44be-842f-385f9d09659f"
      },
      "execution_count": null,
      "outputs": [
        {
          "output_type": "stream",
          "name": "stdout",
          "text": [
            "(3, 'Sefiller', 'Victor Hugo', 1862, 'Roman')\n",
            "(1, 'Suç ve Ceza', 'Dostoyevski', 1866, 'Roman')\n",
            "(8, 'Dönüşüm', 'Franz Kafka', 1915, 'Novella')\n",
            "(4, 'Fareler ve İnsanlar', 'John Steinbeck', 1937, 'Roman')\n",
            "(6, 'Satranç', 'Stefan Zweig', 1941, 'Novella')\n",
            "(2, 'Kürk Mantolu Madonna', 'Sabahattin Ali', 1943, 'Roman')\n",
            "(10, 'Yüzüklerin Efendisi', 'J.R.R Tolkien', 1954, 'Fantastik')\n",
            "(7, 'İnce Memed', 'Yaşar Kemal', 1956, 'Roman')\n",
            "(5, 'Şeker Portakalı', 'Jose Mauro de Vasconcelos', 1968, 'Roman')\n"
          ]
        }
      ]
    },
    {
      "cell_type": "code",
      "source": [
        "try:\n",
        "  conn.execute(\"begin\")\n",
        "  cursor.execute(\"insert into kitaplar (ad, yazar, yil, tur) values ('Yeni kitap', 'Yeni Yazar', 2022, 'Roman')\")\n",
        "  cursor.execute(\"update kitaplar set yil = 2020 where ad = 'Kürk Mantolu Madonna'\")\n",
        "  conn.commit()\n",
        "except:\n",
        "  conn.rollback()"
      ],
      "metadata": {
        "id": "G02oqPL7r7jx"
      },
      "execution_count": null,
      "outputs": []
    },
    {
      "cell_type": "code",
      "source": [
        "kitap_adi = \"İnce Memed\"\n",
        "cursor.execute(\"select * from kitaplar where ad = ?\", (kitap_adi,))\n",
        "print(cursor.fetchall())"
      ],
      "metadata": {
        "colab": {
          "base_uri": "https://localhost:8080/"
        },
        "id": "5BdQV5Cus26K",
        "outputId": "526894db-7775-40cf-c70e-b9b973ae2dff"
      },
      "execution_count": null,
      "outputs": [
        {
          "output_type": "stream",
          "name": "stdout",
          "text": [
            "[(7, 'İnce Memed', 'Yaşar Kemal', 1956, 'Roman')]\n"
          ]
        }
      ]
    },
    {
      "cell_type": "code",
      "source": [
        "cursor.execute(\"select max(yil) from kitaplar\")\n",
        "en_yeni_yil = cursor.fetchone()[0]\n",
        "print(\"En yeni yıl:\", en_yeni_yil)"
      ],
      "metadata": {
        "colab": {
          "base_uri": "https://localhost:8080/"
        },
        "id": "CVL2E7l5tT26",
        "outputId": "d1464b9f-8228-4d85-a443-302a5c2de19e"
      },
      "execution_count": null,
      "outputs": [
        {
          "output_type": "stream",
          "name": "stdout",
          "text": [
            "En yeni yıl: 2022\n"
          ]
        }
      ]
    },
    {
      "cell_type": "code",
      "source": [
        "cursor.execute(\"\"\"\n",
        "select ad, yazar, yil\n",
        "from kitaplar\n",
        "where yil = (select max(yil) from kitaplar)\n",
        "\"\"\")\n",
        "print(\"En yeni yıldaki kitaplar:\", cursor.fetchall())"
      ],
      "metadata": {
        "colab": {
          "base_uri": "https://localhost:8080/"
        },
        "id": "7WsqcecgxJt5",
        "outputId": "d6ea5e0e-0f21-46cb-8159-d8a42d3e9fcd"
      },
      "execution_count": null,
      "outputs": [
        {
          "output_type": "stream",
          "name": "stdout",
          "text": [
            "En yeni yıldaki kitaplar: [('Yeni kitap', 'Yeni Yazar', 2022), ('Yeni kitap', 'Yeni Yazar', 2022)]\n"
          ]
        }
      ]
    },
    {
      "cell_type": "code",
      "source": [
        "cursor.execute(\"\"\"\n",
        "select k.id, k.ad\n",
        "from kitaplar k\n",
        "where k.id in (select kitap_id from sahipler where kitap_id is not null)\n",
        "\"\"\")\n",
        "print(\"Sahibi olan kitaplar:\", cursor.fetchall())"
      ],
      "metadata": {
        "colab": {
          "base_uri": "https://localhost:8080/"
        },
        "id": "HHzv8E36xgHm",
        "outputId": "1fbc428f-b7bd-4c43-da2b-3b76d45a8347"
      },
      "execution_count": null,
      "outputs": [
        {
          "output_type": "stream",
          "name": "stdout",
          "text": [
            "Sahibi olan kitaplar: [(1, 'Suç ve Ceza'), (2, 'Kürk Mantolu Madonna')]\n"
          ]
        }
      ]
    },
    {
      "cell_type": "code",
      "source": [
        "cursor.execute(\"\"\"\n",
        "select k.id, k.ad\n",
        "from kitaplar k\n",
        "where exists (\n",
        "  select 1\n",
        "  from sahipler s\n",
        "  where s.kitap_id = k.id\n",
        ")\n",
        "\"\"\")\n",
        "print(\"Sahibi olan kitaplar (exists):\", cursor.fetchall())"
      ],
      "metadata": {
        "colab": {
          "base_uri": "https://localhost:8080/"
        },
        "id": "YlUyskCfx6s_",
        "outputId": "4fe18f53-0c2f-4642-bda7-87dddbbff2f9"
      },
      "execution_count": null,
      "outputs": [
        {
          "output_type": "stream",
          "name": "stdout",
          "text": [
            "Sahibi olan kitaplar (exists): [(1, 'Suç ve Ceza'), (2, 'Kürk Mantolu Madonna')]\n"
          ]
        }
      ]
    },
    {
      "cell_type": "code",
      "source": [
        "cursor.execute(\"\"\"\n",
        "select k1.ad, k1.yazar, k1.yil\n",
        "from kitaplar k1\n",
        "where k1.yil = (\n",
        "  select min(k2.yil) from kitaplar k2\n",
        "  where k2.yazar = k1.yazar\n",
        ")\n",
        "order by k1.yazar, k1.yil\n",
        "\"\"\")\n",
        "print(\"Her yazardan en eski kitap:\", cursor.fetchall())"
      ],
      "metadata": {
        "colab": {
          "base_uri": "https://localhost:8080/"
        },
        "id": "v0emSzqRyXr9",
        "outputId": "5a0bfe09-dcd6-44cb-e87d-a86cf649c8b4"
      },
      "execution_count": null,
      "outputs": [
        {
          "output_type": "stream",
          "name": "stdout",
          "text": [
            "Her yazardan en eski kitap: [('Suç ve Ceza', 'Dostoyevski', 1866), ('Dönüşüm', 'Franz Kafka', 1915), ('Yüzüklerin Efendisi', 'J.R.R Tolkien', 1954), ('Fareler ve İnsanlar', 'John Steinbeck', 1937), ('Şeker Portakalı', 'Jose Mauro de Vasconcelos', 1968), ('Kürk Mantolu Madonna', 'Sabahattin Ali', 2020), ('Satranç', 'Stefan Zweig', 1941), ('Sefiller', 'Victor Hugo', 1862), ('İnce Memed', 'Yaşar Kemal', 1956), ('Yeni kitap', 'Yeni Yazar', 2022), ('Yeni kitap', 'Yeni Yazar', 2022)]\n"
          ]
        }
      ]
    },
    {
      "cell_type": "code",
      "source": [
        "cursor.execute(\"\"\"\n",
        "select k.id, k.ad\n",
        "from kitaplar k\n",
        "where not exists (\n",
        "  select 1 from sahipler s\n",
        "  where s.kitap_id = k.id\n",
        ")\n",
        "order by k.id\n",
        "\"\"\")\n",
        "\n",
        "for row in cursor.fetchall():\n",
        "  print(row)"
      ],
      "metadata": {
        "colab": {
          "base_uri": "https://localhost:8080/"
        },
        "id": "hXf99QCX0mA_",
        "outputId": "2d27b6d5-e425-438c-a682-c4517f4f12bf"
      },
      "execution_count": null,
      "outputs": [
        {
          "output_type": "stream",
          "name": "stdout",
          "text": [
            "(3, 'Sefiller')\n",
            "(4, 'Fareler ve İnsanlar')\n",
            "(5, 'Şeker Portakalı')\n",
            "(6, 'Satranç')\n",
            "(7, 'İnce Memed')\n",
            "(8, 'Dönüşüm')\n",
            "(10, 'Yüzüklerin Efendisi')\n",
            "(11, 'Yeni kitap')\n",
            "(12, 'Yeni kitap')\n"
          ]
        }
      ]
    },
    {
      "cell_type": "code",
      "source": [],
      "metadata": {
        "id": "qiJ_8Nut1G61"
      },
      "execution_count": null,
      "outputs": []
    }
  ]
}