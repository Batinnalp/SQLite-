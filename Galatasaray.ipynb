{
  "nbformat": 4,
  "nbformat_minor": 0,
  "metadata": {
    "colab": {
      "provenance": [],
      "authorship_tag": "ABX9TyNVa3WvPwDlQ0SitnuW+VSc",
      "include_colab_link": true
    },
    "kernelspec": {
      "name": "python3",
      "display_name": "Python 3"
    },
    "language_info": {
      "name": "python"
    }
  },
  "cells": [
    {
      "cell_type": "markdown",
      "metadata": {
        "id": "view-in-github",
        "colab_type": "text"
      },
      "source": [
        "<a href=\"https://colab.research.google.com/github/Batinnalp/SQLite-/blob/main/Galatasaray.ipynb\" target=\"_parent\"><img src=\"https://colab.research.google.com/assets/colab-badge.svg\" alt=\"Open In Colab\"/></a>"
      ]
    },
    {
      "cell_type": "code",
      "source": [
        "import sqlite3\n",
        "\n",
        "conn = sqlite3.connect(\"galatasaray.db\")\n",
        "cursor = conn.cursor()\n",
        "\n",
        "cursor.execute(\"\"\"\n",
        "create table if not exists futbolcular (\n",
        "  id integer primary key autoincrement,\n",
        "  isim text,\n",
        "  yas integer,\n",
        "  pozisyon text,\n",
        "  piyasa_degeri real\n",
        ")\n",
        "\"\"\")"
      ],
      "metadata": {
        "colab": {
          "base_uri": "https://localhost:8080/"
        },
        "id": "ktZGZ_isvM6k",
        "outputId": "1deb7f78-cad2-412d-8e33-6dc849f650db"
      },
      "execution_count": 1,
      "outputs": [
        {
          "output_type": "execute_result",
          "data": {
            "text/plain": [
              "<sqlite3.Cursor at 0x7ce7ad6c5ac0>"
            ]
          },
          "metadata": {},
          "execution_count": 1
        }
      ]
    },
    {
      "cell_type": "code",
      "source": [
        "futbolcu_listesi = [\n",
        "     (\"Günay Güvenç\", 34, \"Kaleci\", 500_000),\n",
        "     (\"Batuhan Şen\", 27, \"Kaleci\", 275_000),\n",
        "     (\"Evren Eren Elmalı\", 25, \"Sol Bek\", 5_000_000),\n",
        "     (\"Ismail Jakops\", 25, \"Sol Bek\", 7_000_000),\n",
        "     (\"Abdülkerim Bardakçı\", 31, \"Stoper\", 7_000_000),\n",
        "     (\"Davinson Sanchez\", 29, \"Stoper\", 20_000_000),\n",
        "     (\"Kaan Ayhan\", 30, \"Sağ Bek\", 4_000_000),\n",
        "     (\"lucas Torreira\", 30, \"Orta Saha\", 13_000_000),\n",
        "     (\"Gabriel Sara\", 26, \"Orta Saha\", 22_000_000),\n",
        "     (\"Mario Lemina\", 31, \"Orta Saha\", 7_500_000),\n",
        "     (\"Leroy Sane\", 30, \"Sol Kanat\", 32_000_000),\n",
        "     (\"Yunus Akgün\", 25, \"Sağ Kanat\", 14_000_000),\n",
        "     (\"Barış Alper Yılmaz\", 25, \"Sağ Kanat\", 21_000_000),\n",
        "     (\"Viktor James Osimhen\", 27, \"Forvet\", 75_000_000),\n",
        "     (\"Mauro İcardi\", 32, \"Forvet\", 9_000_000)\n",
        "]\n"
      ],
      "metadata": {
        "id": "p8vLyBJTvtZ7"
      },
      "execution_count": 2,
      "outputs": []
    },
    {
      "cell_type": "code",
      "source": [
        "cursor.executemany(\"\"\"\n",
        "  insert into futbolcular (isim, yas, pozisyon, piyasa_degeri)\n",
        "  values (?, ?, ?, ?)\n",
        "\"\"\", futbolcu_listesi)\n",
        "\n",
        "conn.commit()\n",
        "print(\"Futbolcular listeye eklendi\")"
      ],
      "metadata": {
        "colab": {
          "base_uri": "https://localhost:8080/"
        },
        "id": "YeMiVMenv3vm",
        "outputId": "d3633040-6ce7-4461-d2d9-0c38d2b1373b"
      },
      "execution_count": 3,
      "outputs": [
        {
          "output_type": "stream",
          "name": "stdout",
          "text": [
            "Futbolcular listeye eklendi\n"
          ]
        }
      ]
    },
    {
      "cell_type": "code",
      "source": [
        "cursor.execute(\"select * from futbolcular\")\n",
        "for row in cursor.fetchall():\n",
        "  print(row)\n"
      ],
      "metadata": {
        "id": "kjPDpmP0wQ8O",
        "colab": {
          "base_uri": "https://localhost:8080/"
        },
        "outputId": "ba22fd86-932d-48b5-d996-c667dc3c858d"
      },
      "execution_count": 4,
      "outputs": [
        {
          "output_type": "stream",
          "name": "stdout",
          "text": [
            "(1, 'Günay Güvenç', 34, 'Kaleci', 500000.0)\n",
            "(2, 'Batuhan Şen', 27, 'Kaleci', 275000.0)\n",
            "(3, 'Evren Eren Elmalı', 25, 'Sol Bek', 5000000.0)\n",
            "(4, 'Ismail Jakops', 25, 'Sol Bek', 7000000.0)\n",
            "(5, 'Abdülkerim Bardakçı', 31, 'Stoper', 7000000.0)\n",
            "(6, 'Davinson Sanchez', 29, 'Stoper', 20000000.0)\n",
            "(7, 'Kaan Ayhan', 30, 'Sağ Bek', 4000000.0)\n",
            "(8, 'lucas Torreira', 30, 'Orta Saha', 13000000.0)\n",
            "(9, 'Gabriel Sara', 26, 'Orta Saha', 22000000.0)\n",
            "(10, 'Mario Lemina', 31, 'Orta Saha', 7500000.0)\n",
            "(11, 'Leroy Sane', 30, 'Sol Kanat', 32000000.0)\n",
            "(12, 'Yunus Akgün', 25, 'Sağ Kanat', 14000000.0)\n",
            "(13, 'Barış Alper Yılmaz', 25, 'Sağ Kanat', 21000000.0)\n",
            "(14, 'Viktor James Osimhen', 27, 'Forvet', 75000000.0)\n",
            "(15, 'Mauro İcardi', 32, 'Forvet', 9000000.0)\n"
          ]
        }
      ]
    },
    {
      "cell_type": "code",
      "source": [
        "pozisyon = cursor.execute(\"select isim, pozisyon from futbolcular\")\n",
        "for row in pozisyon:\n",
        "  print(row)"
      ],
      "metadata": {
        "id": "qAHY8-M4IRTi",
        "colab": {
          "base_uri": "https://localhost:8080/"
        },
        "outputId": "287f043f-f7f3-4250-c898-88b3b0428b74"
      },
      "execution_count": 5,
      "outputs": [
        {
          "output_type": "stream",
          "name": "stdout",
          "text": [
            "('Günay Güvenç', 'Kaleci')\n",
            "('Batuhan Şen', 'Kaleci')\n",
            "('Evren Eren Elmalı', 'Sol Bek')\n",
            "('Ismail Jakops', 'Sol Bek')\n",
            "('Abdülkerim Bardakçı', 'Stoper')\n",
            "('Davinson Sanchez', 'Stoper')\n",
            "('Kaan Ayhan', 'Sağ Bek')\n",
            "('lucas Torreira', 'Orta Saha')\n",
            "('Gabriel Sara', 'Orta Saha')\n",
            "('Mario Lemina', 'Orta Saha')\n",
            "('Leroy Sane', 'Sol Kanat')\n",
            "('Yunus Akgün', 'Sağ Kanat')\n",
            "('Barış Alper Yılmaz', 'Sağ Kanat')\n",
            "('Viktor James Osimhen', 'Forvet')\n",
            "('Mauro İcardi', 'Forvet')\n"
          ]
        }
      ]
    },
    {
      "cell_type": "code",
      "source": [
        "kaleciler = cursor.execute(\"select * from futbolcular where pozisyon = 'Kaleci'\")\n",
        "for row in kaleciler:\n",
        "  print(row)"
      ],
      "metadata": {
        "colab": {
          "base_uri": "https://localhost:8080/"
        },
        "id": "KXzVfpiPKSzY",
        "outputId": "85fa4ac1-4325-487d-f16d-da8aafc4e883"
      },
      "execution_count": 6,
      "outputs": [
        {
          "output_type": "stream",
          "name": "stdout",
          "text": [
            "(1, 'Günay Güvenç', 34, 'Kaleci', 500000.0)\n",
            "(2, 'Batuhan Şen', 27, 'Kaleci', 275000.0)\n"
          ]
        }
      ]
    },
    {
      "cell_type": "code",
      "source": [
        "deger = cursor.execute(\"select isim, piyasa_degeri from futbolcular order by piyasa_degeri desc\")\n",
        "for row in deger:\n",
        "  print(row)"
      ],
      "metadata": {
        "colab": {
          "base_uri": "https://localhost:8080/"
        },
        "id": "IZnW0TZfLEAU",
        "outputId": "5cf4b836-29f8-43d1-d490-9ee08892a30b"
      },
      "execution_count": 7,
      "outputs": [
        {
          "output_type": "stream",
          "name": "stdout",
          "text": [
            "('Viktor James Osimhen', 75000000.0)\n",
            "('Leroy Sane', 32000000.0)\n",
            "('Gabriel Sara', 22000000.0)\n",
            "('Barış Alper Yılmaz', 21000000.0)\n",
            "('Davinson Sanchez', 20000000.0)\n",
            "('Yunus Akgün', 14000000.0)\n",
            "('lucas Torreira', 13000000.0)\n",
            "('Mauro İcardi', 9000000.0)\n",
            "('Mario Lemina', 7500000.0)\n",
            "('Ismail Jakops', 7000000.0)\n",
            "('Abdülkerim Bardakçı', 7000000.0)\n",
            "('Evren Eren Elmalı', 5000000.0)\n",
            "('Kaan Ayhan', 4000000.0)\n",
            "('Günay Güvenç', 500000.0)\n",
            "('Batuhan Şen', 275000.0)\n"
          ]
        }
      ]
    },
    {
      "cell_type": "code",
      "source": [
        "ilk_uc = cursor.execute(\"select * from futbolcular limit 3\")\n",
        "for row in ilk_uc:\n",
        "  print(row)"
      ],
      "metadata": {
        "colab": {
          "base_uri": "https://localhost:8080/"
        },
        "id": "p-bZmaQZLnlk",
        "outputId": "a77df0d5-9065-471d-ba29-c0040b8227fe"
      },
      "execution_count": 8,
      "outputs": [
        {
          "output_type": "stream",
          "name": "stdout",
          "text": [
            "(1, 'Günay Güvenç', 34, 'Kaleci', 500000.0)\n",
            "(2, 'Batuhan Şen', 27, 'Kaleci', 275000.0)\n",
            "(3, 'Evren Eren Elmalı', 25, 'Sol Bek', 5000000.0)\n"
          ]
        }
      ]
    },
    {
      "cell_type": "code",
      "source": [
        "cursor.execute(\"\"\"\n",
        "    insert into futbolcular (isim, yas, pozisyon, piyasa_degeri)\n",
        "    values (?, ?, ?, ?)\n",
        "\"\"\", (\"Manuel Akanji\", 30, \"Stoper\", 30000000))\n",
        "conn.commit()"
      ],
      "metadata": {
        "id": "w_-gHVxGMAdX"
      },
      "execution_count": 9,
      "outputs": []
    },
    {
      "cell_type": "code",
      "source": [
        "cursor.execute(\"select * from futbolcular\")\n",
        "for row in cursor.fetchall():\n",
        "  print(row)"
      ],
      "metadata": {
        "colab": {
          "base_uri": "https://localhost:8080/"
        },
        "id": "qbBgOqu4Mn9C",
        "outputId": "7ea3028f-c6e1-4fdb-ac6a-3e4ad621d3c9"
      },
      "execution_count": 10,
      "outputs": [
        {
          "output_type": "stream",
          "name": "stdout",
          "text": [
            "(1, 'Günay Güvenç', 34, 'Kaleci', 500000.0)\n",
            "(2, 'Batuhan Şen', 27, 'Kaleci', 275000.0)\n",
            "(3, 'Evren Eren Elmalı', 25, 'Sol Bek', 5000000.0)\n",
            "(4, 'Ismail Jakops', 25, 'Sol Bek', 7000000.0)\n",
            "(5, 'Abdülkerim Bardakçı', 31, 'Stoper', 7000000.0)\n",
            "(6, 'Davinson Sanchez', 29, 'Stoper', 20000000.0)\n",
            "(7, 'Kaan Ayhan', 30, 'Sağ Bek', 4000000.0)\n",
            "(8, 'lucas Torreira', 30, 'Orta Saha', 13000000.0)\n",
            "(9, 'Gabriel Sara', 26, 'Orta Saha', 22000000.0)\n",
            "(10, 'Mario Lemina', 31, 'Orta Saha', 7500000.0)\n",
            "(11, 'Leroy Sane', 30, 'Sol Kanat', 32000000.0)\n",
            "(12, 'Yunus Akgün', 25, 'Sağ Kanat', 14000000.0)\n",
            "(13, 'Barış Alper Yılmaz', 25, 'Sağ Kanat', 21000000.0)\n",
            "(14, 'Viktor James Osimhen', 27, 'Forvet', 75000000.0)\n",
            "(15, 'Mauro İcardi', 32, 'Forvet', 9000000.0)\n",
            "(16, 'Manuel Akanji', 30, 'Stoper', 30000000.0)\n"
          ]
        }
      ]
    },
    {
      "cell_type": "code",
      "source": [
        "cursor.execute(\"delete from futbolcular where isim = 'Kaan Ayhan'\")\n",
        "conn.commit()"
      ],
      "metadata": {
        "id": "7Uw2Y8WYMs46"
      },
      "execution_count": 11,
      "outputs": []
    },
    {
      "cell_type": "code",
      "source": [
        "cursor.execute(\"\"\"\n",
        "    update futbolcular set piyasa_degeri = 15000000 where isim = 'Mauro İcardi'\n",
        "\"\"\")\n",
        "conn.commit()"
      ],
      "metadata": {
        "id": "k3BPbWfdN0Uz"
      },
      "execution_count": 12,
      "outputs": []
    },
    {
      "cell_type": "code",
      "source": [
        "cursor.execute(\"select * from futbolcular\")\n",
        "for row in cursor.fetchall():\n",
        "  print(row)"
      ],
      "metadata": {
        "colab": {
          "base_uri": "https://localhost:8080/"
        },
        "id": "57oAWPBOOHpl",
        "outputId": "4984b5e4-9eb8-4c35-d110-c9e5b83a70dd"
      },
      "execution_count": 13,
      "outputs": [
        {
          "output_type": "stream",
          "name": "stdout",
          "text": [
            "(1, 'Günay Güvenç', 34, 'Kaleci', 500000.0)\n",
            "(2, 'Batuhan Şen', 27, 'Kaleci', 275000.0)\n",
            "(3, 'Evren Eren Elmalı', 25, 'Sol Bek', 5000000.0)\n",
            "(4, 'Ismail Jakops', 25, 'Sol Bek', 7000000.0)\n",
            "(5, 'Abdülkerim Bardakçı', 31, 'Stoper', 7000000.0)\n",
            "(6, 'Davinson Sanchez', 29, 'Stoper', 20000000.0)\n",
            "(8, 'lucas Torreira', 30, 'Orta Saha', 13000000.0)\n",
            "(9, 'Gabriel Sara', 26, 'Orta Saha', 22000000.0)\n",
            "(10, 'Mario Lemina', 31, 'Orta Saha', 7500000.0)\n",
            "(11, 'Leroy Sane', 30, 'Sol Kanat', 32000000.0)\n",
            "(12, 'Yunus Akgün', 25, 'Sağ Kanat', 14000000.0)\n",
            "(13, 'Barış Alper Yılmaz', 25, 'Sağ Kanat', 21000000.0)\n",
            "(14, 'Viktor James Osimhen', 27, 'Forvet', 75000000.0)\n",
            "(15, 'Mauro İcardi', 32, 'Forvet', 15000000.0)\n",
            "(16, 'Manuel Akanji', 30, 'Stoper', 30000000.0)\n"
          ]
        }
      ]
    },
    {
      "cell_type": "code",
      "source": [
        "orta_piyasa = cursor.execute(\"select isim, piyasa_degeri from futbolcular where piyasa_degeri between 15000000 and 35000000\")\n",
        "for row in orta_piyasa:\n",
        "  print(row)"
      ],
      "metadata": {
        "colab": {
          "base_uri": "https://localhost:8080/"
        },
        "id": "IrfXxQL1Oipy",
        "outputId": "287f36d0-308c-4c23-bc78-0e266b24d845"
      },
      "execution_count": 14,
      "outputs": [
        {
          "output_type": "stream",
          "name": "stdout",
          "text": [
            "('Davinson Sanchez', 20000000.0)\n",
            "('Gabriel Sara', 22000000.0)\n",
            "('Leroy Sane', 32000000.0)\n",
            "('Barış Alper Yılmaz', 21000000.0)\n",
            "('Mauro İcardi', 15000000.0)\n",
            "('Manuel Akanji', 30000000.0)\n"
          ]
        }
      ]
    },
    {
      "cell_type": "code",
      "source": [
        "ileri_hat = cursor.execute(\"select isim, pozisyon from futbolcular where pozisyon in ('Orta Saha','Sağ Kanat','Sol Kanat','Forvet')\")\n",
        "for row in ileri_hat:\n",
        "  print(row)"
      ],
      "metadata": {
        "colab": {
          "base_uri": "https://localhost:8080/"
        },
        "id": "OdFdwUzvPBaH",
        "outputId": "0ad76ff2-f797-4a38-97df-e2b1bcbfc1b2"
      },
      "execution_count": 15,
      "outputs": [
        {
          "output_type": "stream",
          "name": "stdout",
          "text": [
            "('lucas Torreira', 'Orta Saha')\n",
            "('Gabriel Sara', 'Orta Saha')\n",
            "('Mario Lemina', 'Orta Saha')\n",
            "('Leroy Sane', 'Sol Kanat')\n",
            "('Yunus Akgün', 'Sağ Kanat')\n",
            "('Barış Alper Yılmaz', 'Sağ Kanat')\n",
            "('Viktor James Osimhen', 'Forvet')\n",
            "('Mauro İcardi', 'Forvet')\n"
          ]
        }
      ]
    },
    {
      "cell_type": "code",
      "source": [
        "san = cursor.execute(\"select * from futbolcular where isim like '%san%'\")\n",
        "for row in san:\n",
        "  print(row)"
      ],
      "metadata": {
        "colab": {
          "base_uri": "https://localhost:8080/"
        },
        "id": "fupbZS6uPo_V",
        "outputId": "61ddb181-4bcf-468c-9734-d527fe79509b"
      },
      "execution_count": 16,
      "outputs": [
        {
          "output_type": "stream",
          "name": "stdout",
          "text": [
            "(6, 'Davinson Sanchez', 29, 'Stoper', 20000000.0)\n",
            "(11, 'Leroy Sane', 30, 'Sol Kanat', 32000000.0)\n"
          ]
        }
      ]
    },
    {
      "cell_type": "code",
      "source": [
        "cursor.execute(\"select count(*) from futbolcular\")\n",
        "sonuc = cursor.fetchone()\n",
        "print(\"Oyuncu sayısı:\", sonuc[0])"
      ],
      "metadata": {
        "colab": {
          "base_uri": "https://localhost:8080/"
        },
        "id": "v_Ntei-LQJNm",
        "outputId": "ae8e3ed9-4def-4fdf-90c9-329cae12529b"
      },
      "execution_count": 17,
      "outputs": [
        {
          "output_type": "stream",
          "name": "stdout",
          "text": [
            "Oyuncu sayısı: 15\n"
          ]
        }
      ]
    },
    {
      "cell_type": "code",
      "source": [
        "pozisyonlar = cursor.execute(\"select distinct pozisyon from futbolcular\")\n",
        "for row in pozisyonlar:\n",
        "  print(row)"
      ],
      "metadata": {
        "colab": {
          "base_uri": "https://localhost:8080/"
        },
        "id": "pe79aWP3QdEc",
        "outputId": "f7c3914d-95fa-41bc-d9fe-cc45331f7644"
      },
      "execution_count": 18,
      "outputs": [
        {
          "output_type": "stream",
          "name": "stdout",
          "text": [
            "('Kaleci',)\n",
            "('Sol Bek',)\n",
            "('Stoper',)\n",
            "('Orta Saha',)\n",
            "('Sol Kanat',)\n",
            "('Sağ Kanat',)\n",
            "('Forvet',)\n"
          ]
        }
      ]
    },
    {
      "cell_type": "code",
      "source": [
        "ortalama_piyasa = cursor.execute(\"select avg(piyasa_degeri) from futbolcular\")\n",
        "toplam_piyasa = cursor.execute(\"select sum(piyasa_degeri) from futbolcular\")\n",
        "en_yuksek_piyasa = cursor.execute(\"select max(piyasa_degeri) from futbolcular\")\n",
        "en_dusuk_piyasa = cursor.execute(\"select min(piyasa_degeri) from futbolcular\")"
      ],
      "metadata": {
        "id": "M-tiwNCvRBtT"
      },
      "execution_count": 19,
      "outputs": []
    },
    {
      "cell_type": "code",
      "source": [
        "cursor.execute(\"\"\"\n",
        "    select isim from futbolcular\n",
        "    where piyasa_degeri = (select max(piyasa_degeri) from futbolcular)\n",
        "\"\"\")\n",
        "\n",
        "print(\"En yüksek piyasa değeri:\", cursor.fetchone()[0])"
      ],
      "metadata": {
        "colab": {
          "base_uri": "https://localhost:8080/"
        },
        "id": "2CYAdPVSR7V1",
        "outputId": "c40be53d-912f-43ad-9ae3-56b4be0eed3a"
      },
      "execution_count": 20,
      "outputs": [
        {
          "output_type": "stream",
          "name": "stdout",
          "text": [
            "En yüksek piyasa değeri: Viktor James Osimhen\n"
          ]
        }
      ]
    },
    {
      "cell_type": "code",
      "source": [
        "cursor.execute(\"\"\"\n",
        "    select isim, yas from futbolcular\n",
        "    where yas < (select avg(yas) from futbolcular)\n",
        "\"\"\")\n",
        "print(\"\\nYaşı ortalamanın altında olan oyuncular:\")\n",
        "for isim, yas in cursor.fetchall():\n",
        "  print(f\"- {isim} ({yas} yaşında)\")"
      ],
      "metadata": {
        "colab": {
          "base_uri": "https://localhost:8080/"
        },
        "id": "P9MTll-uaCnG",
        "outputId": "df35b229-c6da-4ad8-fa27-513d281da3c6"
      },
      "execution_count": 21,
      "outputs": [
        {
          "output_type": "stream",
          "name": "stdout",
          "text": [
            "\n",
            "Yaşı ortalamanın altında olan oyuncular:\n",
            "- Batuhan Şen (27 yaşında)\n",
            "- Evren Eren Elmalı (25 yaşında)\n",
            "- Ismail Jakops (25 yaşında)\n",
            "- Gabriel Sara (26 yaşında)\n",
            "- Yunus Akgün (25 yaşında)\n",
            "- Barış Alper Yılmaz (25 yaşında)\n",
            "- Viktor James Osimhen (27 yaşında)\n"
          ]
        }
      ]
    },
    {
      "cell_type": "code",
      "source": [
        "cursor.execute(\"\"\"\n",
        "    select isim, piyasa_degeri from futbolcular\n",
        "    where pozisyon = 'Forvet'\n",
        "      and piyasa_degeri > (select avg(piyasa_degeri) from futbolcular)\n",
        "\"\"\")\n",
        "\n",
        "print(\"\\nDeğeri ortalamanın üstünde olan forvet oyuncuları:\")\n",
        "for isim, deger in cursor.fetchall():\n",
        "  print(f\"- {isim}: {deger:}€\")"
      ],
      "metadata": {
        "colab": {
          "base_uri": "https://localhost:8080/"
        },
        "id": "3R6riEzSawc7",
        "outputId": "4d0e03b8-56cf-4a06-d915-42b22b903a4e"
      },
      "execution_count": 22,
      "outputs": [
        {
          "output_type": "stream",
          "name": "stdout",
          "text": [
            "\n",
            "Değeri ortalamanın üstünde olan forvet oyuncuları:\n",
            "- Viktor James Osimhen: 75000000.0€\n"
          ]
        }
      ]
    },
    {
      "cell_type": "code",
      "source": [
        "cursor.execute(\"\"\"\n",
        "    select pozisyon from futbolcular\n",
        "    where yas = (select max(yas) from futbolcular)\n",
        "\"\"\")\n",
        "print(\"En yaşlı oyuncunun pozisyonu:\", cursor.fetchone()[0])"
      ],
      "metadata": {
        "colab": {
          "base_uri": "https://localhost:8080/"
        },
        "id": "BdwTwXBfbf2u",
        "outputId": "2f1fcb41-ec09-4e74-e051-a403e01bf67d"
      },
      "execution_count": 23,
      "outputs": [
        {
          "output_type": "stream",
          "name": "stdout",
          "text": [
            "En yaşlı oyuncunun pozisyonu: Kaleci\n"
          ]
        }
      ]
    },
    {
      "cell_type": "code",
      "source": [
        "cursor.execute(\"\"\"\n",
        "    select pozisyon, count(*) from futbolcular\n",
        "    group by pozisyon\n",
        "\"\"\")\n",
        "for poz, adet in cursor.fetchall():\n",
        "  print(f\"- {poz}: {adet}\")"
      ],
      "metadata": {
        "colab": {
          "base_uri": "https://localhost:8080/"
        },
        "id": "Vfl93Z64cQxj",
        "outputId": "7cd10bae-d610-4fa6-c0ce-53c256bfb17d"
      },
      "execution_count": 24,
      "outputs": [
        {
          "output_type": "stream",
          "name": "stdout",
          "text": [
            "- Forvet: 2\n",
            "- Kaleci: 2\n",
            "- Orta Saha: 3\n",
            "- Sağ Kanat: 2\n",
            "- Sol Bek: 2\n",
            "- Sol Kanat: 1\n",
            "- Stoper: 3\n"
          ]
        }
      ]
    },
    {
      "cell_type": "code",
      "source": [
        "cursor.execute(\"\"\"\n",
        "    select pozisyon, sum(piyasa_degeri) from futbolcular\n",
        "    group by pozisyon\n",
        "\"\"\")\n",
        "for poz, toplam in cursor.fetchall():\n",
        "  print(f\"- {poz}: {toplam:}\")"
      ],
      "metadata": {
        "colab": {
          "base_uri": "https://localhost:8080/"
        },
        "id": "SSh99Je6dyAr",
        "outputId": "8b6210ed-3cc1-49f6-d97e-d47bf2a03753"
      },
      "execution_count": 25,
      "outputs": [
        {
          "output_type": "stream",
          "name": "stdout",
          "text": [
            "- Forvet: 90000000.0\n",
            "- Kaleci: 775000.0\n",
            "- Orta Saha: 42500000.0\n",
            "- Sağ Kanat: 35000000.0\n",
            "- Sol Bek: 12000000.0\n",
            "- Sol Kanat: 32000000.0\n",
            "- Stoper: 57000000.0\n"
          ]
        }
      ]
    },
    {
      "cell_type": "code",
      "source": [
        "cursor.execute(\"\"\"\n",
        "    select pozisyon, round(avg(yas), 1) from futbolcular\n",
        "    group by pozisyon\n",
        "\"\"\")\n",
        "\n",
        "for poz, ort in cursor.fetchall():\n",
        "  print(f\"- {poz}: {ort}\")"
      ],
      "metadata": {
        "colab": {
          "base_uri": "https://localhost:8080/"
        },
        "id": "5_x_7cSpmCBW",
        "outputId": "3776e7d3-93af-430a-ef89-763c210aff06"
      },
      "execution_count": 26,
      "outputs": [
        {
          "output_type": "stream",
          "name": "stdout",
          "text": [
            "- Forvet: 29.5\n",
            "- Kaleci: 30.5\n",
            "- Orta Saha: 29.0\n",
            "- Sağ Kanat: 25.0\n",
            "- Sol Bek: 25.0\n",
            "- Sol Kanat: 30.0\n",
            "- Stoper: 30.0\n"
          ]
        }
      ]
    },
    {
      "cell_type": "code",
      "source": [
        "cursor.execute(\"\"\"\n",
        "    select pozisyon, count(*) as adet from futbolcular\n",
        "    group by pozisyon\n",
        "    having adet > 2\n",
        "\"\"\")\n",
        "for poz, adet in cursor.fetchall():\n",
        "  print(f\"- {poz}: {adet}\")"
      ],
      "metadata": {
        "colab": {
          "base_uri": "https://localhost:8080/"
        },
        "id": "FDH2Z79GmdHY",
        "outputId": "8f20d27a-becb-4151-aafb-abda936f1ee3"
      },
      "execution_count": 27,
      "outputs": [
        {
          "output_type": "stream",
          "name": "stdout",
          "text": [
            "- Orta Saha: 3\n",
            "- Stoper: 3\n"
          ]
        }
      ]
    },
    {
      "cell_type": "code",
      "source": [
        "cursor.execute(\"\"\"\n",
        "    select f1.pozisyon, f1.isim, f1.yas\n",
        "    from futbolcular f1\n",
        "    where yas = (\n",
        "      select max(yas) from futbolcular f2\n",
        "      where f2.pozisyon = f1.pozisyon\n",
        "    )\n",
        "    group by f1.pozisyon\n",
        "\"\"\")\n",
        "\n",
        "for poz, isim, yas in cursor.fetchall():\n",
        "  print(f\"- {poz}: {isim} ({yas})\")"
      ],
      "metadata": {
        "colab": {
          "base_uri": "https://localhost:8080/"
        },
        "id": "DjGhy5kQm7MS",
        "outputId": "0959337f-8b47-4e44-f127-ece4a08778f5"
      },
      "execution_count": 28,
      "outputs": [
        {
          "output_type": "stream",
          "name": "stdout",
          "text": [
            "- Forvet: Mauro İcardi (32)\n",
            "- Kaleci: Günay Güvenç (34)\n",
            "- Orta Saha: Mario Lemina (31)\n",
            "- Sağ Kanat: Yunus Akgün (25)\n",
            "- Sol Bek: Evren Eren Elmalı (25)\n",
            "- Sol Kanat: Leroy Sane (30)\n",
            "- Stoper: Abdülkerim Bardakçı (31)\n"
          ]
        }
      ]
    },
    {
      "cell_type": "code",
      "source": [
        "cursor.execute(\"\"\"\n",
        "    select isim, piyasa_degeri,\n",
        "        case\n",
        "            when piyasa_degeri > 29000000 then 'Elit'\n",
        "            when piyasa_degeri > 14000000 then 'Yüksek'\n",
        "            else 'Orta / Düşük'\n",
        "        end as kategori\n",
        "    from futbolcular\n",
        "\"\"\")\n",
        "\n",
        "for isim, deger, kategori in cursor.fetchall():\n",
        "  print(f\"- {isim}: {deger} > {kategori}\")"
      ],
      "metadata": {
        "colab": {
          "base_uri": "https://localhost:8080/"
        },
        "id": "MlXsBoqDncIT",
        "outputId": "24d50081-e2e8-46df-cda9-4d04bfac0b7f"
      },
      "execution_count": 29,
      "outputs": [
        {
          "output_type": "stream",
          "name": "stdout",
          "text": [
            "- Günay Güvenç: 500000.0 > Orta / Düşük\n",
            "- Batuhan Şen: 275000.0 > Orta / Düşük\n",
            "- Evren Eren Elmalı: 5000000.0 > Orta / Düşük\n",
            "- Ismail Jakops: 7000000.0 > Orta / Düşük\n",
            "- Abdülkerim Bardakçı: 7000000.0 > Orta / Düşük\n",
            "- Davinson Sanchez: 20000000.0 > Yüksek\n",
            "- lucas Torreira: 13000000.0 > Orta / Düşük\n",
            "- Gabriel Sara: 22000000.0 > Yüksek\n",
            "- Mario Lemina: 7500000.0 > Orta / Düşük\n",
            "- Leroy Sane: 32000000.0 > Elit\n",
            "- Yunus Akgün: 14000000.0 > Orta / Düşük\n",
            "- Barış Alper Yılmaz: 21000000.0 > Yüksek\n",
            "- Viktor James Osimhen: 75000000.0 > Elit\n",
            "- Mauro İcardi: 15000000.0 > Yüksek\n",
            "- Manuel Akanji: 30000000.0 > Elit\n"
          ]
        }
      ]
    },
    {
      "cell_type": "code",
      "source": [
        "cursor.execute(\"\"\"\n",
        "    select isim, yas,\n",
        "        case\n",
        "            when yas < 26 then 'genç'\n",
        "            when yas <= 30 then 'olgun'\n",
        "            else 'veteran'\n",
        "        end as yas_grubu\n",
        "    from futbolcular\n",
        "\"\"\")\n",
        "\n",
        "for isim, yas, yas_grubu in cursor.fetchall():\n",
        "  print(f\"- {isim}: {yas} > {yas_grubu}\")"
      ],
      "metadata": {
        "colab": {
          "base_uri": "https://localhost:8080/"
        },
        "id": "6T0QsiM-oRV-",
        "outputId": "18b3fe8e-796f-4619-c12a-5835395d9cfb"
      },
      "execution_count": 30,
      "outputs": [
        {
          "output_type": "stream",
          "name": "stdout",
          "text": [
            "- Günay Güvenç: 34 > veteran\n",
            "- Batuhan Şen: 27 > olgun\n",
            "- Evren Eren Elmalı: 25 > genç\n",
            "- Ismail Jakops: 25 > genç\n",
            "- Abdülkerim Bardakçı: 31 > veteran\n",
            "- Davinson Sanchez: 29 > olgun\n",
            "- lucas Torreira: 30 > olgun\n",
            "- Gabriel Sara: 26 > olgun\n",
            "- Mario Lemina: 31 > veteran\n",
            "- Leroy Sane: 30 > olgun\n",
            "- Yunus Akgün: 25 > genç\n",
            "- Barış Alper Yılmaz: 25 > genç\n",
            "- Viktor James Osimhen: 27 > olgun\n",
            "- Mauro İcardi: 32 > veteran\n",
            "- Manuel Akanji: 30 > olgun\n"
          ]
        }
      ]
    },
    {
      "cell_type": "code",
      "source": [
        "cursor.execute(\"\"\"\n",
        "    select isim, yas, piyasa_degeri,\n",
        "        case\n",
        "            when yas > 30 and piyasa_degeri < 10000000 then 'Riskli'\n",
        "            else 'Güvenli'\n",
        "        end as futbolcular\n",
        "    from futbolcular\n",
        "\"\"\")\n",
        "\n",
        "for isim, yas, deger, durum in cursor.fetchall():\n",
        "  print(f\"- {isim}: {yas} yaş, {deger:} > {durum}\")"
      ],
      "metadata": {
        "colab": {
          "base_uri": "https://localhost:8080/"
        },
        "id": "al9uYEeRo8dK",
        "outputId": "e23c6203-3a36-40a3-9fde-ccb772d0cc08"
      },
      "execution_count": 31,
      "outputs": [
        {
          "output_type": "stream",
          "name": "stdout",
          "text": [
            "- Günay Güvenç: 34 yaş, 500000.0 > Riskli\n",
            "- Batuhan Şen: 27 yaş, 275000.0 > Güvenli\n",
            "- Evren Eren Elmalı: 25 yaş, 5000000.0 > Güvenli\n",
            "- Ismail Jakops: 25 yaş, 7000000.0 > Güvenli\n",
            "- Abdülkerim Bardakçı: 31 yaş, 7000000.0 > Riskli\n",
            "- Davinson Sanchez: 29 yaş, 20000000.0 > Güvenli\n",
            "- lucas Torreira: 30 yaş, 13000000.0 > Güvenli\n",
            "- Gabriel Sara: 26 yaş, 22000000.0 > Güvenli\n",
            "- Mario Lemina: 31 yaş, 7500000.0 > Riskli\n",
            "- Leroy Sane: 30 yaş, 32000000.0 > Güvenli\n",
            "- Yunus Akgün: 25 yaş, 14000000.0 > Güvenli\n",
            "- Barış Alper Yılmaz: 25 yaş, 21000000.0 > Güvenli\n",
            "- Viktor James Osimhen: 27 yaş, 75000000.0 > Güvenli\n",
            "- Mauro İcardi: 32 yaş, 15000000.0 > Güvenli\n",
            "- Manuel Akanji: 30 yaş, 30000000.0 > Güvenli\n"
          ]
        }
      ]
    },
    {
      "cell_type": "code",
      "source": [
        "cursor.execute(\"update futbolcular set id = 7 where isim = 'Manuel Akanji'\")"
      ],
      "metadata": {
        "colab": {
          "base_uri": "https://localhost:8080/"
        },
        "id": "IXDYeSSap6gN",
        "outputId": "2797e4af-a7d2-46d4-a4b2-c33724fc3235"
      },
      "execution_count": 32,
      "outputs": [
        {
          "output_type": "execute_result",
          "data": {
            "text/plain": [
              "<sqlite3.Cursor at 0x7ce7ad6c5ac0>"
            ]
          },
          "metadata": {},
          "execution_count": 32
        }
      ]
    },
    {
      "cell_type": "code",
      "source": [
        "cursor.execute(\"select * from futbolcular\")\n",
        "for row in cursor.fetchall():\n",
        "  print(row)"
      ],
      "metadata": {
        "colab": {
          "base_uri": "https://localhost:8080/"
        },
        "id": "gYV1oMDWqfWo",
        "outputId": "54f02581-faba-4138-84a6-9775e4e0bf1d"
      },
      "execution_count": 33,
      "outputs": [
        {
          "output_type": "stream",
          "name": "stdout",
          "text": [
            "(1, 'Günay Güvenç', 34, 'Kaleci', 500000.0)\n",
            "(2, 'Batuhan Şen', 27, 'Kaleci', 275000.0)\n",
            "(3, 'Evren Eren Elmalı', 25, 'Sol Bek', 5000000.0)\n",
            "(4, 'Ismail Jakops', 25, 'Sol Bek', 7000000.0)\n",
            "(5, 'Abdülkerim Bardakçı', 31, 'Stoper', 7000000.0)\n",
            "(6, 'Davinson Sanchez', 29, 'Stoper', 20000000.0)\n",
            "(7, 'Manuel Akanji', 30, 'Stoper', 30000000.0)\n",
            "(8, 'lucas Torreira', 30, 'Orta Saha', 13000000.0)\n",
            "(9, 'Gabriel Sara', 26, 'Orta Saha', 22000000.0)\n",
            "(10, 'Mario Lemina', 31, 'Orta Saha', 7500000.0)\n",
            "(11, 'Leroy Sane', 30, 'Sol Kanat', 32000000.0)\n",
            "(12, 'Yunus Akgün', 25, 'Sağ Kanat', 14000000.0)\n",
            "(13, 'Barış Alper Yılmaz', 25, 'Sağ Kanat', 21000000.0)\n",
            "(14, 'Viktor James Osimhen', 27, 'Forvet', 75000000.0)\n",
            "(15, 'Mauro İcardi', 32, 'Forvet', 15000000.0)\n"
          ]
        }
      ]
    },
    {
      "cell_type": "code",
      "source": [
        "cursor.execute(\"\"\"\n",
        "    create table if not exists fenerbahce_futbolcular(\n",
        "      id integer primary key autoincrement,\n",
        "      isim text not null,\n",
        "      yas integer,\n",
        "      pozisyon text,\n",
        "      forma_no integer,\n",
        "      piyasa_degeri real\n",
        "    )\n",
        "\"\"\")\n"
      ],
      "metadata": {
        "id": "sFJMTiu-qkL6",
        "colab": {
          "base_uri": "https://localhost:8080/"
        },
        "outputId": "f97c559a-e3d4-4900-f7e2-1156f0037663"
      },
      "execution_count": 34,
      "outputs": [
        {
          "output_type": "execute_result",
          "data": {
            "text/plain": [
              "<sqlite3.Cursor at 0x7ce7ad6c5ac0>"
            ]
          },
          "metadata": {},
          "execution_count": 34
        }
      ]
    },
    {
      "cell_type": "code",
      "source": [
        "fenerbahce_kadrosu = [\n",
        "    (\"Dominik Livakovic\", 29, \"Kaleci\", 40, 7_000_000),\n",
        "    (\"Ferdi Kadıoğlu\", 25, \"Sol Bek\", 7, 15_000_000),\n",
        "    (\"Jayden Oosterwolde\", 24, \"Stoper\", 24, 12_000_000),\n",
        "    (\"Alexander Djiku\", 30, \"Stoper\", 6, 8_000_000),\n",
        "    (\"Bright Osayi-Samuel\", 27, \"Sağ Bek\", 21, 7_500_000),\n",
        "    (\"Fred Rodrigues\", 31, \"Orta Saha\", 35, 10_000_000),\n",
        "    (\"İrfan Can Kahveci\", 29, \"Orta Saha\", 17, 9_000_000),\n",
        "    (\"Sebastian Szymanski\", 26, \"Orta Saha\", 53, 22_000_000),\n",
        "    (\"Dusan Tadic\", 35, \"Sol Kanat\", 10, 4_000_000),\n",
        "    (\"Edin Dzeko\", 38, \"Forvet\", 9, 2_500_000)\n",
        "]"
      ],
      "metadata": {
        "id": "luMlen3yrgZP"
      },
      "execution_count": 35,
      "outputs": []
    },
    {
      "cell_type": "code",
      "source": [
        "cursor.executemany(\"\"\"\n",
        "    insert into fenerbahce_futbolcular (isim, yas, pozisyon, forma_no, piyasa_degeri)\n",
        "    values (?, ?, ?, ?, ?)\n",
        "\"\"\", fenerbahce_kadrosu)\n",
        "\n",
        "conn.commit()\n",
        "print(\"Fenerbahçe tablosu başarıyla oluşturuldu ve oyuncular eklendi.\")"
      ],
      "metadata": {
        "colab": {
          "base_uri": "https://localhost:8080/"
        },
        "id": "cJT13maXr4_Y",
        "outputId": "aaf4d684-480a-41fa-f582-39718ab4b93a"
      },
      "execution_count": 36,
      "outputs": [
        {
          "output_type": "stream",
          "name": "stdout",
          "text": [
            "Fenerbahçe tablosu başarıyla oluşturuldu ve oyuncular eklendi.\n"
          ]
        }
      ]
    },
    {
      "cell_type": "code",
      "source": [
        "cursor.execute(\"\"\"\n",
        "    select isim, yas, pozisyon, piyasa_degeri, 'Galatasaray' as takim from futbolcular\n",
        "    union\n",
        "    select isim, yas, pozisyon, piyasa_degeri, 'Fenerbahçe' as takim from fenerbahce_futbolcular\n",
        "\"\"\")\n",
        "print(\"Tüm oyuncular (GS + FB):\")\n",
        "for isim, yas, poz, deger, takim in cursor.fetchall():\n",
        "  print(f\"- {isim} ({takim}) - {poz}, {deger:}\")"
      ],
      "metadata": {
        "colab": {
          "base_uri": "https://localhost:8080/"
        },
        "id": "drkJgIzmsXWh",
        "outputId": "4f3c16a1-fad7-4ee5-c998-aba8ca7e37c2"
      },
      "execution_count": 37,
      "outputs": [
        {
          "output_type": "stream",
          "name": "stdout",
          "text": [
            "Tüm oyuncular (GS + FB):\n",
            "- Abdülkerim Bardakçı (Galatasaray) - Stoper, 7000000.0\n",
            "- Alexander Djiku (Fenerbahçe) - Stoper, 8000000.0\n",
            "- Barış Alper Yılmaz (Galatasaray) - Sağ Kanat, 21000000.0\n",
            "- Batuhan Şen (Galatasaray) - Kaleci, 275000.0\n",
            "- Bright Osayi-Samuel (Fenerbahçe) - Sağ Bek, 7500000.0\n",
            "- Davinson Sanchez (Galatasaray) - Stoper, 20000000.0\n",
            "- Dominik Livakovic (Fenerbahçe) - Kaleci, 7000000.0\n",
            "- Dusan Tadic (Fenerbahçe) - Sol Kanat, 4000000.0\n",
            "- Edin Dzeko (Fenerbahçe) - Forvet, 2500000.0\n",
            "- Evren Eren Elmalı (Galatasaray) - Sol Bek, 5000000.0\n",
            "- Ferdi Kadıoğlu (Fenerbahçe) - Sol Bek, 15000000.0\n",
            "- Fred Rodrigues (Fenerbahçe) - Orta Saha, 10000000.0\n",
            "- Gabriel Sara (Galatasaray) - Orta Saha, 22000000.0\n",
            "- Günay Güvenç (Galatasaray) - Kaleci, 500000.0\n",
            "- Ismail Jakops (Galatasaray) - Sol Bek, 7000000.0\n",
            "- Jayden Oosterwolde (Fenerbahçe) - Stoper, 12000000.0\n",
            "- Leroy Sane (Galatasaray) - Sol Kanat, 32000000.0\n",
            "- Manuel Akanji (Galatasaray) - Stoper, 30000000.0\n",
            "- Mario Lemina (Galatasaray) - Orta Saha, 7500000.0\n",
            "- Mauro İcardi (Galatasaray) - Forvet, 15000000.0\n",
            "- Sebastian Szymanski (Fenerbahçe) - Orta Saha, 22000000.0\n",
            "- Viktor James Osimhen (Galatasaray) - Forvet, 75000000.0\n",
            "- Yunus Akgün (Galatasaray) - Sağ Kanat, 14000000.0\n",
            "- lucas Torreira (Galatasaray) - Orta Saha, 13000000.0\n",
            "- İrfan Can Kahveci (Fenerbahçe) - Orta Saha, 9000000.0\n"
          ]
        }
      ]
    },
    {
      "cell_type": "code",
      "source": [
        "cursor.execute(\"\"\"\n",
        "    create table if not exists pozisyonlar (\n",
        "      pozisyon text primary key,\n",
        "      tanim text\n",
        "    )\n",
        "\"\"\")\n",
        "\n",
        "pozisyonlar = [\n",
        "    (\"Kaleci\", \"Kale koruyucusu\"),\n",
        "    (\"Sol Bek\", \"Sol kanat savunma oyuncusu\"),\n",
        "    (\"Sağ Bek\", \"Sağ kanat savunma oyuncusu\"),\n",
        "    (\"Stoper\", \"Merkez savunmacı\"),\n",
        "    (\"Orta Saha\", \"Oyun kurucu ve denge oyuncusu\"),\n",
        "    (\"Sol Kanat\", \"Sol ileri uç oyuncusu\"),\n",
        "    (\"Sağ Kanat\", \"Sağ ileri uç oyuncusu\"),\n",
        "    (\"Forvet\", \"Golcü\")\n",
        "]\n",
        "\n",
        "cursor.executemany(\"insert or ignore into pozisyonlar (pozisyon, tanim) values (?, ?)\", pozisyonlar)\n",
        "conn.commit()"
      ],
      "metadata": {
        "id": "htOioku0t3DZ"
      },
      "execution_count": 38,
      "outputs": []
    },
    {
      "cell_type": "code",
      "source": [
        "cursor.execute(\"\"\"\n",
        "    select f.isim, f.pozisyon, p.tanim\n",
        "    from futbolcular f\n",
        "    inner join pozisyonlar p on f.pozisyon = p.pozisyon\n",
        "\"\"\")\n",
        "print(\"\\nGalatasaray oyuncuları ve pozisyon açıklamaları:\")\n",
        "for isim, poz, tanim in cursor.fetchall():\n",
        "  print(f\"- {isim}: {poz} > {tanim}\")"
      ],
      "metadata": {
        "colab": {
          "base_uri": "https://localhost:8080/"
        },
        "id": "4K2ijT_qvBbx",
        "outputId": "331717cb-6547-4c15-91cc-ec00155875fb"
      },
      "execution_count": 39,
      "outputs": [
        {
          "output_type": "stream",
          "name": "stdout",
          "text": [
            "\n",
            "Galatasaray oyuncuları ve pozisyon açıklamaları:\n",
            "- Günay Güvenç: Kaleci > Kale koruyucusu\n",
            "- Batuhan Şen: Kaleci > Kale koruyucusu\n",
            "- Evren Eren Elmalı: Sol Bek > Sol kanat savunma oyuncusu\n",
            "- Ismail Jakops: Sol Bek > Sol kanat savunma oyuncusu\n",
            "- Abdülkerim Bardakçı: Stoper > Merkez savunmacı\n",
            "- Davinson Sanchez: Stoper > Merkez savunmacı\n",
            "- Manuel Akanji: Stoper > Merkez savunmacı\n",
            "- lucas Torreira: Orta Saha > Oyun kurucu ve denge oyuncusu\n",
            "- Gabriel Sara: Orta Saha > Oyun kurucu ve denge oyuncusu\n",
            "- Mario Lemina: Orta Saha > Oyun kurucu ve denge oyuncusu\n",
            "- Leroy Sane: Sol Kanat > Sol ileri uç oyuncusu\n",
            "- Yunus Akgün: Sağ Kanat > Sağ ileri uç oyuncusu\n",
            "- Barış Alper Yılmaz: Sağ Kanat > Sağ ileri uç oyuncusu\n",
            "- Viktor James Osimhen: Forvet > Golcü\n",
            "- Mauro İcardi: Forvet > Golcü\n"
          ]
        }
      ]
    },
    {
      "cell_type": "code",
      "source": [
        "cursor.execute(\"\"\"\n",
        "    SELECT f.isim, f.pozisyon, p.tanim\n",
        "    FROM fenerbahce_futbolcular f\n",
        "    INNER JOIN pozisyonlar p ON f.pozisyon = p.pozisyon\n",
        "\"\"\")\n",
        "print(\"\\nFenerbahçe oyuncuları ve pozisyon açıklamaları:\")\n",
        "for isim, poz, tanim in cursor.fetchall():\n",
        "    print(f\"- {isim}: {poz} > {tanim}\")\n"
      ],
      "metadata": {
        "colab": {
          "base_uri": "https://localhost:8080/"
        },
        "id": "cLGCx7jbvstO",
        "outputId": "9c73535c-d7c6-447e-c6f2-b53ae03c2fec"
      },
      "execution_count": 40,
      "outputs": [
        {
          "output_type": "stream",
          "name": "stdout",
          "text": [
            "\n",
            "Fenerbahçe oyuncuları ve pozisyon açıklamaları:\n",
            "- Dominik Livakovic: Kaleci > Kale koruyucusu\n",
            "- Ferdi Kadıoğlu: Sol Bek > Sol kanat savunma oyuncusu\n",
            "- Jayden Oosterwolde: Stoper > Merkez savunmacı\n",
            "- Alexander Djiku: Stoper > Merkez savunmacı\n",
            "- Bright Osayi-Samuel: Sağ Bek > Sağ kanat savunma oyuncusu\n",
            "- Fred Rodrigues: Orta Saha > Oyun kurucu ve denge oyuncusu\n",
            "- İrfan Can Kahveci: Orta Saha > Oyun kurucu ve denge oyuncusu\n",
            "- Sebastian Szymanski: Orta Saha > Oyun kurucu ve denge oyuncusu\n",
            "- Dusan Tadic: Sol Kanat > Sol ileri uç oyuncusu\n",
            "- Edin Dzeko: Forvet > Golcü\n"
          ]
        }
      ]
    },
    {
      "cell_type": "code",
      "source": [
        "cursor.execute(\"\"\"\n",
        "    select p.pozisyon, p.tanim, f.isim\n",
        "    from pozisyonlar p\n",
        "    left join futbolcular f on p.pozisyon = f.pozisyon\n",
        "\"\"\")\n",
        "for poz, tanim, isim in cursor.fetchall():\n",
        "  print(f\"- {poz}: {isim or 'Oyuncu yok'}\")"
      ],
      "metadata": {
        "colab": {
          "base_uri": "https://localhost:8080/"
        },
        "id": "6-1_hdu3wEu3",
        "outputId": "21cb75f5-5cd4-48a9-9f4b-5ef871667a2c"
      },
      "execution_count": 41,
      "outputs": [
        {
          "output_type": "stream",
          "name": "stdout",
          "text": [
            "- Kaleci: Batuhan Şen\n",
            "- Kaleci: Günay Güvenç\n",
            "- Sol Bek: Evren Eren Elmalı\n",
            "- Sol Bek: Ismail Jakops\n",
            "- Sağ Bek: Oyuncu yok\n",
            "- Stoper: Abdülkerim Bardakçı\n",
            "- Stoper: Davinson Sanchez\n",
            "- Stoper: Manuel Akanji\n",
            "- Orta Saha: Gabriel Sara\n",
            "- Orta Saha: Mario Lemina\n",
            "- Orta Saha: lucas Torreira\n",
            "- Sol Kanat: Leroy Sane\n",
            "- Sağ Kanat: Barış Alper Yılmaz\n",
            "- Sağ Kanat: Yunus Akgün\n",
            "- Forvet: Mauro İcardi\n",
            "- Forvet: Viktor James Osimhen\n"
          ]
        }
      ]
    },
    {
      "cell_type": "markdown",
      "source": [
        "Bu satırlar anlaşılmadı"
      ],
      "metadata": {
        "id": "4ouHEmPDRkI1"
      }
    },
    {
      "cell_type": "code",
      "source": [
        "cursor.execute(\"\"\"\n",
        "    select f1.isim, f2.isim\n",
        "    from fenerbahce_futbolcular f1\n",
        "    cross join futbolcular f2\n",
        "    limit 10\n",
        "\"\"\")\n",
        "for fb, gs in cursor.fetchall():\n",
        "  print(f\"- {fb} vs {gs}\")"
      ],
      "metadata": {
        "colab": {
          "base_uri": "https://localhost:8080/"
        },
        "id": "_vvqbeSWRnFG",
        "outputId": "e27eefb1-c3d4-4bdb-c7c3-5e700d389c13"
      },
      "execution_count": 42,
      "outputs": [
        {
          "output_type": "stream",
          "name": "stdout",
          "text": [
            "- Dominik Livakovic vs Günay Güvenç\n",
            "- Dominik Livakovic vs Batuhan Şen\n",
            "- Dominik Livakovic vs Evren Eren Elmalı\n",
            "- Dominik Livakovic vs Ismail Jakops\n",
            "- Dominik Livakovic vs Abdülkerim Bardakçı\n",
            "- Dominik Livakovic vs Davinson Sanchez\n",
            "- Dominik Livakovic vs Manuel Akanji\n",
            "- Dominik Livakovic vs lucas Torreira\n",
            "- Dominik Livakovic vs Gabriel Sara\n",
            "- Dominik Livakovic vs Mario Lemina\n"
          ]
        }
      ]
    },
    {
      "cell_type": "code",
      "source": [
        "cursor.execute(\"\"\"\n",
        "    select f1.isim, f2.isim, f1.pozisyon\n",
        "    from futbolcular f1\n",
        "    join futbolcular f2 on f1.pozisyon = f2.pozisyon and f1.id < f2.id\n",
        "    order by f1.pozisyon\n",
        "\"\"\")\n",
        "for a, b, poz in cursor.fetchall():\n",
        "  print(f\" {a} & {b} ({poz})\")"
      ],
      "metadata": {
        "colab": {
          "base_uri": "https://localhost:8080/"
        },
        "id": "iTggVvh4R-eo",
        "outputId": "b9f63b16-bba7-4f5e-b915-2ff8325ffd83"
      },
      "execution_count": 43,
      "outputs": [
        {
          "output_type": "stream",
          "name": "stdout",
          "text": [
            " Viktor James Osimhen & Mauro İcardi (Forvet)\n",
            " Günay Güvenç & Batuhan Şen (Kaleci)\n",
            " lucas Torreira & Gabriel Sara (Orta Saha)\n",
            " lucas Torreira & Mario Lemina (Orta Saha)\n",
            " Gabriel Sara & Mario Lemina (Orta Saha)\n",
            " Yunus Akgün & Barış Alper Yılmaz (Sağ Kanat)\n",
            " Evren Eren Elmalı & Ismail Jakops (Sol Bek)\n",
            " Abdülkerim Bardakçı & Davinson Sanchez (Stoper)\n",
            " Abdülkerim Bardakçı & Manuel Akanji (Stoper)\n",
            " Davinson Sanchez & Manuel Akanji (Stoper)\n"
          ]
        }
      ]
    },
    {
      "cell_type": "code",
      "source": [
        "cursor.execute(\"\"\"\n",
        "    select fb.isim as fb_oyuncu, gs.isim as gs_oyuncu, fb.pozisyon\n",
        "    from fenerbahce_futbolcular fb\n",
        "    inner join futbolcular gs\n",
        "      on fb.pozisyon = gs.pozisyon\n",
        "    order by fb.pozisyon, fb.isim\n",
        "\"\"\")\n",
        "for fb_isim, gs_isim, pozisyon in cursor.fetchall():\n",
        "  print(f\"{pozisyon}: {fb_isim} | {gs_isim}\")"
      ],
      "metadata": {
        "colab": {
          "base_uri": "https://localhost:8080/"
        },
        "id": "WgA4BvIHSxw3",
        "outputId": "307a6ba6-d3c6-4fc9-9f97-d0f61dd328d3"
      },
      "execution_count": 47,
      "outputs": [
        {
          "output_type": "stream",
          "name": "stdout",
          "text": [
            "Forvet: Edin Dzeko | Mauro İcardi\n",
            "Forvet: Edin Dzeko | Viktor James Osimhen\n",
            "Kaleci: Dominik Livakovic | Batuhan Şen\n",
            "Kaleci: Dominik Livakovic | Günay Güvenç\n",
            "Orta Saha: Fred Rodrigues | Gabriel Sara\n",
            "Orta Saha: Fred Rodrigues | Mario Lemina\n",
            "Orta Saha: Fred Rodrigues | lucas Torreira\n",
            "Orta Saha: Sebastian Szymanski | Gabriel Sara\n",
            "Orta Saha: Sebastian Szymanski | Mario Lemina\n",
            "Orta Saha: Sebastian Szymanski | lucas Torreira\n",
            "Orta Saha: İrfan Can Kahveci | Gabriel Sara\n",
            "Orta Saha: İrfan Can Kahveci | Mario Lemina\n",
            "Orta Saha: İrfan Can Kahveci | lucas Torreira\n",
            "Sol Bek: Ferdi Kadıoğlu | Evren Eren Elmalı\n",
            "Sol Bek: Ferdi Kadıoğlu | Ismail Jakops\n",
            "Sol Kanat: Dusan Tadic | Leroy Sane\n",
            "Stoper: Alexander Djiku | Abdülkerim Bardakçı\n",
            "Stoper: Alexander Djiku | Davinson Sanchez\n",
            "Stoper: Alexander Djiku | Manuel Akanji\n",
            "Stoper: Jayden Oosterwolde | Abdülkerim Bardakçı\n",
            "Stoper: Jayden Oosterwolde | Davinson Sanchez\n",
            "Stoper: Jayden Oosterwolde | Manuel Akanji\n"
          ]
        }
      ]
    },
    {
      "cell_type": "code",
      "source": [],
      "metadata": {
        "id": "efSDDqCkTpf1"
      },
      "execution_count": null,
      "outputs": []
    }
  ]
}