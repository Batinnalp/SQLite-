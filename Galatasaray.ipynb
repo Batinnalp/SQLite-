{
  "nbformat": 4,
  "nbformat_minor": 0,
  "metadata": {
    "colab": {
      "provenance": [],
      "authorship_tag": "ABX9TyP7FBlAWC/X0rCKHr+JIabA",
      "include_colab_link": true
    },
    "kernelspec": {
      "name": "python3",
      "display_name": "Python 3"
    },
    "language_info": {
      "name": "python"
    }
  },
  "cells": [
    {
      "cell_type": "markdown",
      "metadata": {
        "id": "view-in-github",
        "colab_type": "text"
      },
      "source": [
        "<a href=\"https://colab.research.google.com/github/Batinnalp/SQLite-/blob/main/Galatasaray.ipynb\" target=\"_parent\"><img src=\"https://colab.research.google.com/assets/colab-badge.svg\" alt=\"Open In Colab\"/></a>"
      ]
    },
    {
      "cell_type": "code",
      "source": [
        "import sqlite3\n",
        "\n",
        "conn = sqlite3.connect(\"galatasaray.db\")\n",
        "cursor = conn.cursor()\n",
        "\n",
        "cursor.execute(\"\"\"\n",
        "create table if not exists futbolcular (\n",
        "  id integer primary key autoincrement,\n",
        "  isim text,\n",
        "  yas integer,\n",
        "  pozisyon text,\n",
        "  piyasa_degeri real\n",
        ")\n",
        "\"\"\")"
      ],
      "metadata": {
        "colab": {
          "base_uri": "https://localhost:8080/"
        },
        "id": "ktZGZ_isvM6k",
        "outputId": "7b4fc121-f2fe-4632-991c-393a009f4623"
      },
      "execution_count": 2,
      "outputs": [
        {
          "output_type": "execute_result",
          "data": {
            "text/plain": [
              "<sqlite3.Cursor at 0x7ca44a751440>"
            ]
          },
          "metadata": {},
          "execution_count": 2
        }
      ]
    },
    {
      "cell_type": "code",
      "source": [
        "futbolcu_listesi = [\n",
        "     (\"Günay Güvenç\", 34, \"Kaleci\", 500_000),\n",
        "     (\"Batuhan Şen\", 27, \"Kaleci\", 275_000),\n",
        "     (\"Evren Eren Elmalı\", 25, \"Sol Bek\", 5_000_000),\n",
        "     (\"Ismail Jakops\", 25, \"Sol Bek\", 7_000_000),\n",
        "     (\"Abdülkerim Bardakçı\", 31, \"Stoper\", 7_000_000),\n",
        "     (\"Davinson Sanchez\", 29, \"Stoper\", 20_000_000),\n",
        "     (\"Kaan Ayhan\", 30, \"Sağ Bek\", 4_000_000),\n",
        "     (\"lucas Torreira\", 30, \"Orta Saha\", 13_000_000),\n",
        "     (\"Gabriel Sara\", 26, \"Orta Saha\", 22_000_000),\n",
        "     (\"Mario Lemina\", 31, \"Orta Saha\", 7_500_000),\n",
        "     (\"Leroy Sane\", 30, \"Sol Kanat\", 32_000_000),\n",
        "     (\"Yunus Akgün\", 25, \"Sağ Kanat\", 14_000_000),\n",
        "     (\"Barış Alper Yılmaz\", 25, \"Sağ Kanat\", 21_000_000),\n",
        "     (\"Viktor James Osimhen\", 27, \"Forvet\", 75_000_000),\n",
        "     (\"Mauro İcardi\", 32, \"Forvet\", 9_000_000)\n",
        "]\n"
      ],
      "metadata": {
        "id": "p8vLyBJTvtZ7"
      },
      "execution_count": 3,
      "outputs": []
    },
    {
      "cell_type": "code",
      "source": [
        "cursor.executemany(\"\"\"\n",
        "  insert into futbolcular (isim, yas, pozisyon, piyasa_degeri)\n",
        "  values (?, ?, ?, ?)\n",
        "\"\"\", futbolcu_listesi)\n",
        "\n",
        "conn.commit()\n",
        "print(\"Futbolcular listeye eklendi\")"
      ],
      "metadata": {
        "colab": {
          "base_uri": "https://localhost:8080/"
        },
        "id": "YeMiVMenv3vm",
        "outputId": "a929f2a8-fc11-4b32-da36-d39e7d33b293"
      },
      "execution_count": 4,
      "outputs": [
        {
          "output_type": "stream",
          "name": "stdout",
          "text": [
            "Futbolcular listeye eklendi\n"
          ]
        }
      ]
    },
    {
      "cell_type": "code",
      "source": [
        "cursor.execute(\"select * from futbolcular\")\n",
        "for row in cursor.fetchall():\n",
        "  print(row)\n"
      ],
      "metadata": {
        "id": "kjPDpmP0wQ8O",
        "colab": {
          "base_uri": "https://localhost:8080/"
        },
        "outputId": "e83cef28-e96f-478d-d515-66fe17231ecb"
      },
      "execution_count": 5,
      "outputs": [
        {
          "output_type": "stream",
          "name": "stdout",
          "text": [
            "(1, 'Günay Güvenç', 34, 'Kaleci', 500000.0)\n",
            "(2, 'Batuhan Şen', 27, 'Kaleci', 275000.0)\n",
            "(3, 'Evren Eren Elmalı', 25, 'Sol Bek', 5000000.0)\n",
            "(4, 'Ismail Jakops', 25, 'Sol Bek', 7000000.0)\n",
            "(5, 'Abdülkerim Bardakçı', 31, 'Stoper', 7000000.0)\n",
            "(6, 'Davinson Sanchez', 29, 'Stoper', 20000000.0)\n",
            "(7, 'Kaan Ayhan', 30, 'Sağ Bek', 4000000.0)\n",
            "(8, 'lucas Torreira', 30, 'Orta Saha', 13000000.0)\n",
            "(9, 'Gabriel Sara', 26, 'Orta Saha', 22000000.0)\n",
            "(10, 'Mario Lemina', 31, 'Orta Saha', 7500000.0)\n",
            "(11, 'Leroy Sane', 30, 'Sol Kanat', 32000000.0)\n",
            "(12, 'Yunus Akgün', 25, 'Sağ Kanat', 14000000.0)\n",
            "(13, 'Barış Alper Yılmaz', 25, 'Sağ Kanat', 21000000.0)\n",
            "(14, 'Viktor James Osimhen', 27, 'Forvet', 75000000.0)\n",
            "(15, 'Mauro İcardi', 32, 'Forvet', 9000000.0)\n"
          ]
        }
      ]
    },
    {
      "cell_type": "code",
      "source": [
        "pozisyon = cursor.execute(\"select isim, pozisyon from futbolcular\")\n",
        "for row in pozisyon:\n",
        "  print(row)"
      ],
      "metadata": {
        "id": "qAHY8-M4IRTi",
        "colab": {
          "base_uri": "https://localhost:8080/"
        },
        "outputId": "f518bfb9-bc2a-4fdc-f4e1-9ec781fa2ec5"
      },
      "execution_count": 11,
      "outputs": [
        {
          "output_type": "stream",
          "name": "stdout",
          "text": [
            "('Günay Güvenç', 'Kaleci')\n",
            "('Batuhan Şen', 'Kaleci')\n",
            "('Evren Eren Elmalı', 'Sol Bek')\n",
            "('Ismail Jakops', 'Sol Bek')\n",
            "('Abdülkerim Bardakçı', 'Stoper')\n",
            "('Davinson Sanchez', 'Stoper')\n",
            "('Kaan Ayhan', 'Sağ Bek')\n",
            "('lucas Torreira', 'Orta Saha')\n",
            "('Gabriel Sara', 'Orta Saha')\n",
            "('Mario Lemina', 'Orta Saha')\n",
            "('Leroy Sane', 'Sol Kanat')\n",
            "('Yunus Akgün', 'Sağ Kanat')\n",
            "('Barış Alper Yılmaz', 'Sağ Kanat')\n",
            "('Viktor James Osimhen', 'Forvet')\n",
            "('Mauro İcardi', 'Forvet')\n"
          ]
        }
      ]
    },
    {
      "cell_type": "code",
      "source": [
        "kaleciler = cursor.execute(\"select * from futbolcular where pozisyon = 'Kaleci'\")\n",
        "for row in kaleciler:\n",
        "  print(row)"
      ],
      "metadata": {
        "colab": {
          "base_uri": "https://localhost:8080/"
        },
        "id": "KXzVfpiPKSzY",
        "outputId": "e00baee5-acdc-4f7f-ce28-a696f9ab583e"
      },
      "execution_count": 13,
      "outputs": [
        {
          "output_type": "stream",
          "name": "stdout",
          "text": [
            "(1, 'Günay Güvenç', 34, 'Kaleci', 500000.0)\n",
            "(2, 'Batuhan Şen', 27, 'Kaleci', 275000.0)\n"
          ]
        }
      ]
    },
    {
      "cell_type": "code",
      "source": [
        "deger = cursor.execute(\"select isim, piyasa_degeri from futbolcular order by piyasa_degeri desc\")\n",
        "for row in deger:\n",
        "  print(row)"
      ],
      "metadata": {
        "colab": {
          "base_uri": "https://localhost:8080/"
        },
        "id": "IZnW0TZfLEAU",
        "outputId": "2c0674ce-bcb2-4a38-9ddd-4fb1f2cdb65c"
      },
      "execution_count": 17,
      "outputs": [
        {
          "output_type": "stream",
          "name": "stdout",
          "text": [
            "('Viktor James Osimhen', 75000000.0)\n",
            "('Leroy Sane', 32000000.0)\n",
            "('Gabriel Sara', 22000000.0)\n",
            "('Barış Alper Yılmaz', 21000000.0)\n",
            "('Davinson Sanchez', 20000000.0)\n",
            "('Yunus Akgün', 14000000.0)\n",
            "('lucas Torreira', 13000000.0)\n",
            "('Mauro İcardi', 9000000.0)\n",
            "('Mario Lemina', 7500000.0)\n",
            "('Ismail Jakops', 7000000.0)\n",
            "('Abdülkerim Bardakçı', 7000000.0)\n",
            "('Evren Eren Elmalı', 5000000.0)\n",
            "('Kaan Ayhan', 4000000.0)\n",
            "('Günay Güvenç', 500000.0)\n",
            "('Batuhan Şen', 275000.0)\n"
          ]
        }
      ]
    },
    {
      "cell_type": "code",
      "source": [
        "ilk_uc = cursor.execute(\"select * from futbolcular limit 3\")\n",
        "for row in ilk_uc:\n",
        "  print(row)"
      ],
      "metadata": {
        "colab": {
          "base_uri": "https://localhost:8080/"
        },
        "id": "p-bZmaQZLnlk",
        "outputId": "df180b96-d22b-40de-b5bc-c92b42db049c"
      },
      "execution_count": 19,
      "outputs": [
        {
          "output_type": "stream",
          "name": "stdout",
          "text": [
            "(1, 'Günay Güvenç', 34, 'Kaleci', 500000.0)\n",
            "(2, 'Batuhan Şen', 27, 'Kaleci', 275000.0)\n",
            "(3, 'Evren Eren Elmalı', 25, 'Sol Bek', 5000000.0)\n"
          ]
        }
      ]
    },
    {
      "cell_type": "code",
      "source": [
        "cursor.execute(\"\"\"\n",
        "    insert into futbolcular (isim, yas, pozisyon, piyasa_degeri)\n",
        "    values (?, ?, ?, ?)\n",
        "\"\"\", (\"Manuel Akanji\", 30, \"Stoper\", 30000000))\n",
        "conn.commit()"
      ],
      "metadata": {
        "id": "w_-gHVxGMAdX"
      },
      "execution_count": 20,
      "outputs": []
    },
    {
      "cell_type": "code",
      "source": [
        "cursor.execute(\"select * from futbolcular\")\n",
        "for row in cursor.fetchall():\n",
        "  print(row)"
      ],
      "metadata": {
        "colab": {
          "base_uri": "https://localhost:8080/"
        },
        "id": "qbBgOqu4Mn9C",
        "outputId": "ca727e43-656b-4ac3-cd0e-499b34f5780d"
      },
      "execution_count": 21,
      "outputs": [
        {
          "output_type": "stream",
          "name": "stdout",
          "text": [
            "(1, 'Günay Güvenç', 34, 'Kaleci', 500000.0)\n",
            "(2, 'Batuhan Şen', 27, 'Kaleci', 275000.0)\n",
            "(3, 'Evren Eren Elmalı', 25, 'Sol Bek', 5000000.0)\n",
            "(4, 'Ismail Jakops', 25, 'Sol Bek', 7000000.0)\n",
            "(5, 'Abdülkerim Bardakçı', 31, 'Stoper', 7000000.0)\n",
            "(6, 'Davinson Sanchez', 29, 'Stoper', 20000000.0)\n",
            "(7, 'Kaan Ayhan', 30, 'Sağ Bek', 4000000.0)\n",
            "(8, 'lucas Torreira', 30, 'Orta Saha', 13000000.0)\n",
            "(9, 'Gabriel Sara', 26, 'Orta Saha', 22000000.0)\n",
            "(10, 'Mario Lemina', 31, 'Orta Saha', 7500000.0)\n",
            "(11, 'Leroy Sane', 30, 'Sol Kanat', 32000000.0)\n",
            "(12, 'Yunus Akgün', 25, 'Sağ Kanat', 14000000.0)\n",
            "(13, 'Barış Alper Yılmaz', 25, 'Sağ Kanat', 21000000.0)\n",
            "(14, 'Viktor James Osimhen', 27, 'Forvet', 75000000.0)\n",
            "(15, 'Mauro İcardi', 32, 'Forvet', 9000000.0)\n",
            "(16, 'Manuel Akanji', 30, 'Stoper', 30000000.0)\n"
          ]
        }
      ]
    },
    {
      "cell_type": "code",
      "source": [
        "cursor.execute(\"delete from futbolcular where isim = 'Kaan Ayhan'\")\n",
        "conn.commit()"
      ],
      "metadata": {
        "id": "7Uw2Y8WYMs46"
      },
      "execution_count": 22,
      "outputs": []
    },
    {
      "cell_type": "code",
      "source": [
        "cursor.execute(\"\"\"\n",
        "    update futbolcular set piyasa_degeri = 15000000 where isim = 'Mauro İcardi'\n",
        "\"\"\")\n",
        "conn.commit()"
      ],
      "metadata": {
        "id": "k3BPbWfdN0Uz"
      },
      "execution_count": 24,
      "outputs": []
    },
    {
      "cell_type": "code",
      "source": [
        "cursor.execute(\"select * from futbolcular\")\n",
        "for row in cursor.fetchall():\n",
        "  print(row)"
      ],
      "metadata": {
        "colab": {
          "base_uri": "https://localhost:8080/"
        },
        "id": "57oAWPBOOHpl",
        "outputId": "35a7a2b2-fd4c-4ef3-90df-b7cd89980fbf"
      },
      "execution_count": 25,
      "outputs": [
        {
          "output_type": "stream",
          "name": "stdout",
          "text": [
            "(1, 'Günay Güvenç', 34, 'Kaleci', 500000.0)\n",
            "(2, 'Batuhan Şen', 27, 'Kaleci', 275000.0)\n",
            "(3, 'Evren Eren Elmalı', 25, 'Sol Bek', 5000000.0)\n",
            "(4, 'Ismail Jakops', 25, 'Sol Bek', 7000000.0)\n",
            "(5, 'Abdülkerim Bardakçı', 31, 'Stoper', 7000000.0)\n",
            "(6, 'Davinson Sanchez', 29, 'Stoper', 20000000.0)\n",
            "(8, 'lucas Torreira', 30, 'Orta Saha', 13000000.0)\n",
            "(9, 'Gabriel Sara', 26, 'Orta Saha', 22000000.0)\n",
            "(10, 'Mario Lemina', 31, 'Orta Saha', 7500000.0)\n",
            "(11, 'Leroy Sane', 30, 'Sol Kanat', 32000000.0)\n",
            "(12, 'Yunus Akgün', 25, 'Sağ Kanat', 14000000.0)\n",
            "(13, 'Barış Alper Yılmaz', 25, 'Sağ Kanat', 21000000.0)\n",
            "(14, 'Viktor James Osimhen', 27, 'Forvet', 75000000.0)\n",
            "(15, 'Mauro İcardi', 32, 'Forvet', 15000000.0)\n",
            "(16, 'Manuel Akanji', 30, 'Stoper', 30000000.0)\n"
          ]
        }
      ]
    },
    {
      "cell_type": "code",
      "source": [
        "orta_piyasa = cursor.execute(\"select isim, piyasa_degeri from futbolcular where piyasa_degeri between 15000000 and 35000000\")\n",
        "for row in orta_piyasa:\n",
        "  print(row)"
      ],
      "metadata": {
        "colab": {
          "base_uri": "https://localhost:8080/"
        },
        "id": "IrfXxQL1Oipy",
        "outputId": "706c758b-5e10-4f07-e2a0-7785547f13fa"
      },
      "execution_count": 26,
      "outputs": [
        {
          "output_type": "stream",
          "name": "stdout",
          "text": [
            "('Davinson Sanchez', 20000000.0)\n",
            "('Gabriel Sara', 22000000.0)\n",
            "('Leroy Sane', 32000000.0)\n",
            "('Barış Alper Yılmaz', 21000000.0)\n",
            "('Mauro İcardi', 15000000.0)\n",
            "('Manuel Akanji', 30000000.0)\n"
          ]
        }
      ]
    },
    {
      "cell_type": "code",
      "source": [
        "ileri_hat = cursor.execute(\"select isim, pozisyon from futbolcular where pozisyon in ('Orta Saha','Sağ Kanat','Sol Kanat','Forvet')\")\n",
        "for row in ileri_hat:\n",
        "  print(row)"
      ],
      "metadata": {
        "colab": {
          "base_uri": "https://localhost:8080/"
        },
        "id": "OdFdwUzvPBaH",
        "outputId": "1b7b34b6-eed7-4d57-a4ec-e3f5f24c5105"
      },
      "execution_count": 29,
      "outputs": [
        {
          "output_type": "stream",
          "name": "stdout",
          "text": [
            "('lucas Torreira', 'Orta Saha')\n",
            "('Gabriel Sara', 'Orta Saha')\n",
            "('Mario Lemina', 'Orta Saha')\n",
            "('Leroy Sane', 'Sol Kanat')\n",
            "('Yunus Akgün', 'Sağ Kanat')\n",
            "('Barış Alper Yılmaz', 'Sağ Kanat')\n",
            "('Viktor James Osimhen', 'Forvet')\n",
            "('Mauro İcardi', 'Forvet')\n"
          ]
        }
      ]
    },
    {
      "cell_type": "code",
      "source": [
        "san = cursor.execute(\"select * from futbolcular where isim like '%san%'\")\n",
        "for row in san:\n",
        "  print(row)"
      ],
      "metadata": {
        "colab": {
          "base_uri": "https://localhost:8080/"
        },
        "id": "fupbZS6uPo_V",
        "outputId": "93ac7923-45f8-4b44-8164-853140e1637c"
      },
      "execution_count": 30,
      "outputs": [
        {
          "output_type": "stream",
          "name": "stdout",
          "text": [
            "(6, 'Davinson Sanchez', 29, 'Stoper', 20000000.0)\n",
            "(11, 'Leroy Sane', 30, 'Sol Kanat', 32000000.0)\n"
          ]
        }
      ]
    },
    {
      "cell_type": "code",
      "source": [
        "cursor.execute(\"select count(*) from futbolcular\")\n",
        "sonuc = cursor.fetchone()\n",
        "print(\"Oyuncu sayısı:\", sonuc[0])"
      ],
      "metadata": {
        "colab": {
          "base_uri": "https://localhost:8080/"
        },
        "id": "v_Ntei-LQJNm",
        "outputId": "8c34bb9d-9977-40f9-e472-01c025ebb992"
      },
      "execution_count": 33,
      "outputs": [
        {
          "output_type": "stream",
          "name": "stdout",
          "text": [
            "Oyuncu sayısı: 15\n"
          ]
        }
      ]
    },
    {
      "cell_type": "code",
      "source": [
        "pozisyonlar = cursor.execute(\"select distinct pozisyon from futbolcular\")\n",
        "for row in pozisyonlar:\n",
        "  print(row)"
      ],
      "metadata": {
        "colab": {
          "base_uri": "https://localhost:8080/"
        },
        "id": "pe79aWP3QdEc",
        "outputId": "03f8e942-5a27-4498-800e-4c8731e5100c"
      },
      "execution_count": 37,
      "outputs": [
        {
          "output_type": "stream",
          "name": "stdout",
          "text": [
            "('Kaleci',)\n",
            "('Sol Bek',)\n",
            "('Stoper',)\n",
            "('Orta Saha',)\n",
            "('Sol Kanat',)\n",
            "('Sağ Kanat',)\n",
            "('Forvet',)\n"
          ]
        }
      ]
    },
    {
      "cell_type": "code",
      "source": [
        "ortalama_piyasa = cursor.execute(\"select avg(piyasa_degeri) from futbolcular\")\n",
        "toplam_piyasa = cursor.execute(\"select sum(piyasa_degeri) from futbolcular\")\n",
        "en_yuksek_piyasa = cursor.execute(\"select max(piyasa_degeri) from futbolcular\")\n",
        "en_dusuk_piyasa = cursor.execute(\"select min(piyasa_degeri) from futbolcular\")"
      ],
      "metadata": {
        "id": "M-tiwNCvRBtT"
      },
      "execution_count": 38,
      "outputs": []
    },
    {
      "cell_type": "code",
      "source": [
        "cursor.execute(\"\"\"\n",
        "    select isim from futbolcular\n",
        "    where piyasa_degeri = (select max(piyasa_degeri) from futbolcular)\n",
        "\"\"\")\n",
        "\n",
        "print(\"En yüksek piyasa değeri:\", cursor.fetchone()[0])"
      ],
      "metadata": {
        "colab": {
          "base_uri": "https://localhost:8080/"
        },
        "id": "2CYAdPVSR7V1",
        "outputId": "04969c62-6175-48ae-fa86-cd43fe301234"
      },
      "execution_count": 40,
      "outputs": [
        {
          "output_type": "stream",
          "name": "stdout",
          "text": [
            "En yüksek piyasa değeri: Viktor James Osimhen\n"
          ]
        }
      ]
    },
    {
      "cell_type": "code",
      "source": [
        "cursor.execute(\"\"\"\n",
        "    select isim, yas from futbolcular\n",
        "    where yas < (select avg(yas) from futbolcular)\n",
        "\"\"\")\n",
        "print(\"\\nYaşı ortalamanın altında olan oyuncular:\")\n",
        "for isim, yas in cursor.fetchall():\n",
        "  print(f\"- {isim} ({yas} yaşında)\")"
      ],
      "metadata": {
        "colab": {
          "base_uri": "https://localhost:8080/"
        },
        "id": "P9MTll-uaCnG",
        "outputId": "de392b37-9da2-4c16-f824-2e0cce86273a"
      },
      "execution_count": 41,
      "outputs": [
        {
          "output_type": "stream",
          "name": "stdout",
          "text": [
            "\n",
            "Yaşı ortalamanın altında olan oyuncular:\n",
            "- Batuhan Şen (27 yaşında)\n",
            "- Evren Eren Elmalı (25 yaşında)\n",
            "- Ismail Jakops (25 yaşında)\n",
            "- Gabriel Sara (26 yaşında)\n",
            "- Yunus Akgün (25 yaşında)\n",
            "- Barış Alper Yılmaz (25 yaşında)\n",
            "- Viktor James Osimhen (27 yaşında)\n"
          ]
        }
      ]
    },
    {
      "cell_type": "code",
      "source": [
        "cursor.execute(\"\"\"\n",
        "    select isim, piyasa_degeri from futbolcular\n",
        "    where pozisyon = 'Forvet'\n",
        "      and piyasa_degeri > (select avg(piyasa_degeri) from futbolcular)\n",
        "\"\"\")\n",
        "\n",
        "print(\"\\nDeğeri ortalamanın üstünde olan forvet oyuncuları:\")\n",
        "for isim, deger in cursor.fetchall():\n",
        "  print(f\"- {isim}: {deger:}€\")"
      ],
      "metadata": {
        "colab": {
          "base_uri": "https://localhost:8080/"
        },
        "id": "3R6riEzSawc7",
        "outputId": "92a4338a-c3a5-4537-9b76-55b91b7c6578"
      },
      "execution_count": 45,
      "outputs": [
        {
          "output_type": "stream",
          "name": "stdout",
          "text": [
            "\n",
            "Değeri ortalamanın üstünde olan forvet oyuncuları:\n",
            "- Viktor James Osimhen: 75000000.0€\n"
          ]
        }
      ]
    },
    {
      "cell_type": "code",
      "source": [
        "cursor.execute(\"\"\"\n",
        "    select pozisyon from futbolcular\n",
        "    where yas = (select max(yas) from futbolcular)\n",
        "\"\"\")\n",
        "print(\"En yaşlı oyuncunun pozisyonu:\", cursor.fetchone()[0])"
      ],
      "metadata": {
        "colab": {
          "base_uri": "https://localhost:8080/"
        },
        "id": "BdwTwXBfbf2u",
        "outputId": "d94cf911-1b0d-47d7-9d03-9351b90a65ef"
      },
      "execution_count": 47,
      "outputs": [
        {
          "output_type": "stream",
          "name": "stdout",
          "text": [
            "En yaşlı oyuncunun pozisyonu: Kaleci\n"
          ]
        }
      ]
    },
    {
      "cell_type": "code",
      "source": [
        "cursor.execute(\"\"\"\n",
        "    select pozisyon, count(*) from futbolcular\n",
        "    group by pozisyon\n",
        "\"\"\")\n",
        "for poz, adet in cursor.fetchall():\n",
        "  print(f\"- {poz}: {adet}\")"
      ],
      "metadata": {
        "colab": {
          "base_uri": "https://localhost:8080/"
        },
        "id": "Vfl93Z64cQxj",
        "outputId": "6da2eff4-10ad-446b-a745-4240a2b597a7"
      },
      "execution_count": 48,
      "outputs": [
        {
          "output_type": "stream",
          "name": "stdout",
          "text": [
            "- Forvet: 2\n",
            "- Kaleci: 2\n",
            "- Orta Saha: 3\n",
            "- Sağ Kanat: 2\n",
            "- Sol Bek: 2\n",
            "- Sol Kanat: 1\n",
            "- Stoper: 3\n"
          ]
        }
      ]
    },
    {
      "cell_type": "code",
      "source": [
        "cursor.execute(\"\"\"\n",
        "    select pozisyon, sum(piyasa_degeri) from futbolcular\n",
        "    group by pozisyon\n",
        "\"\"\")\n",
        "for poz, toplam in cursor.fetchall():\n",
        "  print(f\"- {poz}: {toplam:}\")"
      ],
      "metadata": {
        "colab": {
          "base_uri": "https://localhost:8080/"
        },
        "id": "SSh99Je6dyAr",
        "outputId": "05c3bb6f-ddb2-4977-d9eb-197ade4d68a7"
      },
      "execution_count": 49,
      "outputs": [
        {
          "output_type": "stream",
          "name": "stdout",
          "text": [
            "- Forvet: 90000000.0\n",
            "- Kaleci: 775000.0\n",
            "- Orta Saha: 42500000.0\n",
            "- Sağ Kanat: 35000000.0\n",
            "- Sol Bek: 12000000.0\n",
            "- Sol Kanat: 32000000.0\n",
            "- Stoper: 57000000.0\n"
          ]
        }
      ]
    },
    {
      "cell_type": "code",
      "source": [
        "cursor.execute(\"\"\"\n",
        "    select pozisyon, round(avg(yas), 1) from futbolcular\n",
        "    group by pozisyon\n",
        "\"\"\")\n",
        "\n",
        "for poz, ort in cursor.fetchall():\n",
        "  print(f\"- {poz}: {ort}\")"
      ],
      "metadata": {
        "colab": {
          "base_uri": "https://localhost:8080/"
        },
        "id": "5_x_7cSpmCBW",
        "outputId": "7a062871-6027-4b9b-a894-7681e09f8e1c"
      },
      "execution_count": 51,
      "outputs": [
        {
          "output_type": "stream",
          "name": "stdout",
          "text": [
            "- Forvet: 29.5\n",
            "- Kaleci: 30.5\n",
            "- Orta Saha: 29.0\n",
            "- Sağ Kanat: 25.0\n",
            "- Sol Bek: 25.0\n",
            "- Sol Kanat: 30.0\n",
            "- Stoper: 30.0\n"
          ]
        }
      ]
    },
    {
      "cell_type": "code",
      "source": [
        "cursor.execute(\"\"\"\n",
        "    select pozisyon, count(*) as adet from futbolcular\n",
        "    group by pozisyon\n",
        "    having adet > 2\n",
        "\"\"\")\n",
        "for poz, adet in cursor.fetchall():\n",
        "  print(f\"- {poz}: {adet}\")"
      ],
      "metadata": {
        "colab": {
          "base_uri": "https://localhost:8080/"
        },
        "id": "FDH2Z79GmdHY",
        "outputId": "7f696785-35ec-4f8f-87e7-bcec801f27be"
      },
      "execution_count": 52,
      "outputs": [
        {
          "output_type": "stream",
          "name": "stdout",
          "text": [
            "- Orta Saha: 3\n",
            "- Stoper: 3\n"
          ]
        }
      ]
    },
    {
      "cell_type": "code",
      "source": [
        "cursor.execute(\"\"\"\n",
        "    select f1.pozisyon, f1.isim, f1.yas\n",
        "    from futbolcular f1\n",
        "    where yas = (\n",
        "      select max(yas) from futbolcular f2\n",
        "      where f2.pozisyon = f1.pozisyon\n",
        "    )\n",
        "    group by f1.pozisyon\n",
        "\"\"\")\n",
        "\n",
        "for poz, isim, yas in cursor.fetchall():\n",
        "  print(f\"- {poz}: {isim} ({yas})\")"
      ],
      "metadata": {
        "colab": {
          "base_uri": "https://localhost:8080/"
        },
        "id": "DjGhy5kQm7MS",
        "outputId": "09f9a342-75bc-4655-d350-eaede3740d81"
      },
      "execution_count": 53,
      "outputs": [
        {
          "output_type": "stream",
          "name": "stdout",
          "text": [
            "- Forvet: Mauro İcardi (32)\n",
            "- Kaleci: Günay Güvenç (34)\n",
            "- Orta Saha: Mario Lemina (31)\n",
            "- Sağ Kanat: Yunus Akgün (25)\n",
            "- Sol Bek: Evren Eren Elmalı (25)\n",
            "- Sol Kanat: Leroy Sane (30)\n",
            "- Stoper: Abdülkerim Bardakçı (31)\n"
          ]
        }
      ]
    },
    {
      "cell_type": "code",
      "source": [
        "cursor.execute(\"\"\"\n",
        "    select isim, piyasa_degeri,\n",
        "        case\n",
        "            when piyasa_degeri > 29000000 then 'Elit'\n",
        "            when piyasa_degeri > 14000000 then 'Yüksek'\n",
        "            else 'Orta / Düşük'\n",
        "        end as kategori\n",
        "    from futbolcular\n",
        "\"\"\")\n",
        "\n",
        "for isim, deger, kategori in cursor.fetchall():\n",
        "  print(f\"- {isim}: {deger} > {kategori}\")"
      ],
      "metadata": {
        "colab": {
          "base_uri": "https://localhost:8080/"
        },
        "id": "MlXsBoqDncIT",
        "outputId": "6395fe78-ceef-465c-ae15-97a9cac50b37"
      },
      "execution_count": 55,
      "outputs": [
        {
          "output_type": "stream",
          "name": "stdout",
          "text": [
            "- Günay Güvenç: 500000.0 > Orta / Düşük\n",
            "- Batuhan Şen: 275000.0 > Orta / Düşük\n",
            "- Evren Eren Elmalı: 5000000.0 > Orta / Düşük\n",
            "- Ismail Jakops: 7000000.0 > Orta / Düşük\n",
            "- Abdülkerim Bardakçı: 7000000.0 > Orta / Düşük\n",
            "- Davinson Sanchez: 20000000.0 > Yüksek\n",
            "- lucas Torreira: 13000000.0 > Orta / Düşük\n",
            "- Gabriel Sara: 22000000.0 > Yüksek\n",
            "- Mario Lemina: 7500000.0 > Orta / Düşük\n",
            "- Leroy Sane: 32000000.0 > Elit\n",
            "- Yunus Akgün: 14000000.0 > Orta / Düşük\n",
            "- Barış Alper Yılmaz: 21000000.0 > Yüksek\n",
            "- Viktor James Osimhen: 75000000.0 > Elit\n",
            "- Mauro İcardi: 15000000.0 > Yüksek\n",
            "- Manuel Akanji: 30000000.0 > Elit\n"
          ]
        }
      ]
    },
    {
      "cell_type": "code",
      "source": [
        "cursor.execute(\"\"\"\n",
        "    select isim, yas,\n",
        "        case\n",
        "            when yas < 26 then 'genç'\n",
        "            when yas <= 30 then 'olgun'\n",
        "            else 'veteran'\n",
        "        end as yas_grubu\n",
        "    from futbolcular\n",
        "\"\"\")\n",
        "\n",
        "for isim, yas, yas_grubu in cursor.fetchall():\n",
        "  print(f\"- {isim}: {yas} > {yas_grubu}\")"
      ],
      "metadata": {
        "colab": {
          "base_uri": "https://localhost:8080/"
        },
        "id": "6T0QsiM-oRV-",
        "outputId": "47f2cd4d-25b2-4c96-8660-8b38b877a46c"
      },
      "execution_count": 59,
      "outputs": [
        {
          "output_type": "stream",
          "name": "stdout",
          "text": [
            "- Günay Güvenç: 34 > veteran\n",
            "- Batuhan Şen: 27 > olgun\n",
            "- Evren Eren Elmalı: 25 > genç\n",
            "- Ismail Jakops: 25 > genç\n",
            "- Abdülkerim Bardakçı: 31 > veteran\n",
            "- Davinson Sanchez: 29 > olgun\n",
            "- lucas Torreira: 30 > olgun\n",
            "- Gabriel Sara: 26 > olgun\n",
            "- Mario Lemina: 31 > veteran\n",
            "- Leroy Sane: 30 > olgun\n",
            "- Yunus Akgün: 25 > genç\n",
            "- Barış Alper Yılmaz: 25 > genç\n",
            "- Viktor James Osimhen: 27 > olgun\n",
            "- Mauro İcardi: 32 > veteran\n",
            "- Manuel Akanji: 30 > olgun\n"
          ]
        }
      ]
    },
    {
      "cell_type": "code",
      "source": [
        "cursor.execute(\"\"\"\n",
        "    select isim, yas, piyasa_degeri,\n",
        "        case\n",
        "            when yas > 30 and piyasa_degeri < 10000000 then 'Riskli'\n",
        "            else 'Güvenli'\n",
        "        end as futbolcular\n",
        "    from futbolcular\n",
        "\"\"\")\n",
        "\n",
        "for isim, yas, deger, durum in cursor.fetchall():\n",
        "  print(f\"- {isim}: {yas} yaş, {deger:} > {durum}\")"
      ],
      "metadata": {
        "colab": {
          "base_uri": "https://localhost:8080/"
        },
        "id": "al9uYEeRo8dK",
        "outputId": "65bd8e64-05d3-4672-c8e2-6e729f1eccfd"
      },
      "execution_count": 61,
      "outputs": [
        {
          "output_type": "stream",
          "name": "stdout",
          "text": [
            "- Günay Güvenç: 34 yaş, 500000.0 > Riskli\n",
            "- Batuhan Şen: 27 yaş, 275000.0 > Güvenli\n",
            "- Evren Eren Elmalı: 25 yaş, 5000000.0 > Güvenli\n",
            "- Ismail Jakops: 25 yaş, 7000000.0 > Güvenli\n",
            "- Abdülkerim Bardakçı: 31 yaş, 7000000.0 > Riskli\n",
            "- Davinson Sanchez: 29 yaş, 20000000.0 > Güvenli\n",
            "- lucas Torreira: 30 yaş, 13000000.0 > Güvenli\n",
            "- Gabriel Sara: 26 yaş, 22000000.0 > Güvenli\n",
            "- Mario Lemina: 31 yaş, 7500000.0 > Riskli\n",
            "- Leroy Sane: 30 yaş, 32000000.0 > Güvenli\n",
            "- Yunus Akgün: 25 yaş, 14000000.0 > Güvenli\n",
            "- Barış Alper Yılmaz: 25 yaş, 21000000.0 > Güvenli\n",
            "- Viktor James Osimhen: 27 yaş, 75000000.0 > Güvenli\n",
            "- Mauro İcardi: 32 yaş, 15000000.0 > Güvenli\n",
            "- Manuel Akanji: 30 yaş, 30000000.0 > Güvenli\n"
          ]
        }
      ]
    },
    {
      "cell_type": "code",
      "source": [
        "cursor.execute(\"update futbolcular set id = 7 where isim = 'Manuel Akanji'\")"
      ],
      "metadata": {
        "colab": {
          "base_uri": "https://localhost:8080/"
        },
        "id": "IXDYeSSap6gN",
        "outputId": "1f30dae9-f675-4173-aba3-897fece248a0"
      },
      "execution_count": 62,
      "outputs": [
        {
          "output_type": "execute_result",
          "data": {
            "text/plain": [
              "<sqlite3.Cursor at 0x7ca44a751440>"
            ]
          },
          "metadata": {},
          "execution_count": 62
        }
      ]
    },
    {
      "cell_type": "code",
      "source": [
        "cursor.execute(\"select * from futbolcular\")\n",
        "for row in cursor.fetchall():\n",
        "  print(row)"
      ],
      "metadata": {
        "colab": {
          "base_uri": "https://localhost:8080/"
        },
        "id": "gYV1oMDWqfWo",
        "outputId": "af571e24-bd02-4ca3-d7ec-4741a8cbd9d7"
      },
      "execution_count": 63,
      "outputs": [
        {
          "output_type": "stream",
          "name": "stdout",
          "text": [
            "(1, 'Günay Güvenç', 34, 'Kaleci', 500000.0)\n",
            "(2, 'Batuhan Şen', 27, 'Kaleci', 275000.0)\n",
            "(3, 'Evren Eren Elmalı', 25, 'Sol Bek', 5000000.0)\n",
            "(4, 'Ismail Jakops', 25, 'Sol Bek', 7000000.0)\n",
            "(5, 'Abdülkerim Bardakçı', 31, 'Stoper', 7000000.0)\n",
            "(6, 'Davinson Sanchez', 29, 'Stoper', 20000000.0)\n",
            "(7, 'Manuel Akanji', 30, 'Stoper', 30000000.0)\n",
            "(8, 'lucas Torreira', 30, 'Orta Saha', 13000000.0)\n",
            "(9, 'Gabriel Sara', 26, 'Orta Saha', 22000000.0)\n",
            "(10, 'Mario Lemina', 31, 'Orta Saha', 7500000.0)\n",
            "(11, 'Leroy Sane', 30, 'Sol Kanat', 32000000.0)\n",
            "(12, 'Yunus Akgün', 25, 'Sağ Kanat', 14000000.0)\n",
            "(13, 'Barış Alper Yılmaz', 25, 'Sağ Kanat', 21000000.0)\n",
            "(14, 'Viktor James Osimhen', 27, 'Forvet', 75000000.0)\n",
            "(15, 'Mauro İcardi', 32, 'Forvet', 15000000.0)\n"
          ]
        }
      ]
    },
    {
      "cell_type": "code",
      "source": [],
      "metadata": {
        "id": "sFJMTiu-qkL6"
      },
      "execution_count": null,
      "outputs": []
    }
  ]
}