{
  "nbformat": 4,
  "nbformat_minor": 0,
  "metadata": {
    "colab": {
      "provenance": [],
      "authorship_tag": "ABX9TyN5YMPPIWm4nMlBcjWEaADW",
      "include_colab_link": true
    },
    "kernelspec": {
      "name": "python3",
      "display_name": "Python 3"
    },
    "language_info": {
      "name": "python"
    }
  },
  "cells": [
    {
      "cell_type": "markdown",
      "metadata": {
        "id": "view-in-github",
        "colab_type": "text"
      },
      "source": [
        "<a href=\"https://colab.research.google.com/github/Batinnalp/SQLite-/blob/main/SQLite_grupby.ipynb\" target=\"_parent\"><img src=\"https://colab.research.google.com/assets/colab-badge.svg\" alt=\"Open In Colab\"/></a>"
      ]
    },
    {
      "cell_type": "code",
      "execution_count": null,
      "metadata": {
        "id": "23vs1Hf3dodA"
      },
      "outputs": [],
      "source": [
        "import sqlite3\n",
        "conn = sqlite3.connect(\":memory:\")\n",
        "cursor = conn.cursor()\n",
        "cursor.execute(\"\"\"\n",
        "create table notlar (\n",
        "  id integer primary key,\n",
        "  ogrenci text,\n",
        "  ders text,\n",
        "  notu integer\n",
        ")\n",
        "\"\"\")\n",
        "\n",
        "veriler = [\n",
        "    (\"Ali\", \"Matematik\", 85),\n",
        "    (\"Ali\", \"Fen\", 90),\n",
        "    (\"Ayşe\", \"Matematik\", 70),\n",
        "    (\"Mehmet\", \"Fen\", 75),\n",
        "    (\"Zeynep\", \"Matematik\", 88),\n",
        "    (\"Mehmet\", \"Matematik\", 78),\n",
        "    (\"Ayşe\", \"Fen\", 92),\n",
        "    (\"Zeynep\", \"Fen\", 84)\n",
        "]\n",
        "\n",
        "cursor.executemany(\"insert into notlar (ogrenci, ders, notu) values (?, ?, ?)\", veriler)\n",
        "conn.commit()"
      ]
    },
    {
      "cell_type": "code",
      "source": [
        "cursor.execute(\"\"\"\n",
        "select ogrenci, sum(notu)\n",
        "from notlar\n",
        "group by ogrenci\n",
        "\"\"\")\n",
        "print(cursor.fetchall())"
      ],
      "metadata": {
        "colab": {
          "base_uri": "https://localhost:8080/"
        },
        "id": "FkkHVG7NduIg",
        "outputId": "d25cbebf-8d16-4626-b39d-b72cb85687d1"
      },
      "execution_count": null,
      "outputs": [
        {
          "output_type": "stream",
          "name": "stdout",
          "text": [
            "[('Ali', 175), ('Ayşe', 162), ('Mehmet', 153), ('Zeynep', 172)]\n"
          ]
        }
      ]
    },
    {
      "cell_type": "code",
      "source": [
        "cursor.execute(\"\"\"\n",
        "select ders, avg(notu)\n",
        "from notlar\n",
        "group by ders\n",
        "\"\"\")\n",
        "print(cursor.fetchall())"
      ],
      "metadata": {
        "colab": {
          "base_uri": "https://localhost:8080/"
        },
        "id": "Xies1O-pfGA-",
        "outputId": "19da7bea-6de2-439f-d271-52b8d7dbde8c"
      },
      "execution_count": null,
      "outputs": [
        {
          "output_type": "stream",
          "name": "stdout",
          "text": [
            "[('Fen', 85.25), ('Matematik', 80.25)]\n"
          ]
        }
      ]
    },
    {
      "cell_type": "code",
      "source": [
        "cursor.execute(\"\"\"\n",
        "select ders, count(*)\n",
        "from notlar\n",
        "group by ders\n",
        "\"\"\")\n",
        "print(cursor.fetchall())"
      ],
      "metadata": {
        "colab": {
          "base_uri": "https://localhost:8080/"
        },
        "id": "oJl3EH9bfV1A",
        "outputId": "98357917-3b48-4c40-b37e-c5a256657088"
      },
      "execution_count": null,
      "outputs": [
        {
          "output_type": "stream",
          "name": "stdout",
          "text": [
            "[('Fen', 4), ('Matematik', 4)]\n"
          ]
        }
      ]
    },
    {
      "cell_type": "code",
      "source": [
        "cursor.execute(\"\"\"\n",
        "select ogrenci, max(notu)\n",
        "from notlar\n",
        "group by ogrenci\n",
        "\"\"\")\n",
        "print(cursor.fetchall())"
      ],
      "metadata": {
        "colab": {
          "base_uri": "https://localhost:8080/"
        },
        "id": "VnHDk5-Lfktk",
        "outputId": "f7065e27-0779-4c64-d35c-c7c96ca03f55"
      },
      "execution_count": null,
      "outputs": [
        {
          "output_type": "stream",
          "name": "stdout",
          "text": [
            "[('Ali', 90), ('Ayşe', 92), ('Mehmet', 78), ('Zeynep', 88)]\n"
          ]
        }
      ]
    },
    {
      "cell_type": "code",
      "source": [
        "cursor.execute(\"\"\"\n",
        "select ogrenci, round(notu)\n",
        "from notlar\n",
        "group by ogrenci\n",
        "\"\"\")\n",
        "print(cursor.fetchall())"
      ],
      "metadata": {
        "colab": {
          "base_uri": "https://localhost:8080/"
        },
        "id": "YPV5K6VXf0lb",
        "outputId": "42a5c9a4-9220-4ca6-c8c4-bacb2b616846"
      },
      "execution_count": null,
      "outputs": [
        {
          "output_type": "stream",
          "name": "stdout",
          "text": [
            "[('Ali', 85.0), ('Ayşe', 70.0), ('Mehmet', 75.0), ('Zeynep', 88.0)]\n"
          ]
        }
      ]
    },
    {
      "cell_type": "code",
      "source": [
        "cursor.execute(\"\"\"\n",
        "select ogrenci, avg(notu) as ortalama\n",
        "from notlar\n",
        "group by ogrenci\n",
        "having ortalama > 85\n",
        "\"\"\")\n",
        "print(cursor.fetchall())"
      ],
      "metadata": {
        "colab": {
          "base_uri": "https://localhost:8080/"
        },
        "id": "f6iKLfeVgBLh",
        "outputId": "09ca596e-6d43-4b09-9ce8-bf913f4242cb"
      },
      "execution_count": null,
      "outputs": [
        {
          "output_type": "stream",
          "name": "stdout",
          "text": [
            "[('Ali', 87.5), ('Zeynep', 86.0)]\n"
          ]
        }
      ]
    },
    {
      "cell_type": "code",
      "source": [
        "cursor.execute(\"\"\"\n",
        "select ogrenci, sum(notu)\n",
        "from notlar\n",
        "group by ogrenci\n",
        "having sum(notu) > 160\n",
        "\"\"\")\n",
        "print(cursor.fetchall())"
      ],
      "metadata": {
        "colab": {
          "base_uri": "https://localhost:8080/"
        },
        "id": "bZ67vzJGhjAK",
        "outputId": "002e47c9-4143-44b0-8902-021c5e0db7b0"
      },
      "execution_count": null,
      "outputs": [
        {
          "output_type": "stream",
          "name": "stdout",
          "text": [
            "[('Ali', 175), ('Ayşe', 162), ('Zeynep', 172)]\n"
          ]
        }
      ]
    },
    {
      "cell_type": "code",
      "source": [
        "cursor.execute(\"\"\"\n",
        "select ders, count(*) as not_sayisi\n",
        "from notlar\n",
        "group by ders\n",
        "having not_sayisi >= 2\n",
        "\"\"\")\n",
        "print(cursor.fetchall())"
      ],
      "metadata": {
        "colab": {
          "base_uri": "https://localhost:8080/"
        },
        "id": "RywzVy2Ihw0N",
        "outputId": "b88bef21-8a67-48dc-9a97-11cadd941c7b"
      },
      "execution_count": null,
      "outputs": [
        {
          "output_type": "stream",
          "name": "stdout",
          "text": [
            "[('Fen', 4), ('Matematik', 4)]\n"
          ]
        }
      ]
    },
    {
      "cell_type": "code",
      "source": [
        "cursor.execute(\"\"\"\n",
        "select ogrenci, max(notu) as en_yüksek\n",
        "from notlar\n",
        "group by ogrenci\n",
        "having en_yüksek >= 90\n",
        "\"\"\")\n",
        "print(cursor.fetchall())"
      ],
      "metadata": {
        "colab": {
          "base_uri": "https://localhost:8080/"
        },
        "id": "9mshAecJiKxT",
        "outputId": "3a9e2b29-b248-4213-c4bb-4a7cb181c41d"
      },
      "execution_count": null,
      "outputs": [
        {
          "output_type": "stream",
          "name": "stdout",
          "text": [
            "[('Ali', 90), ('Ayşe', 92)]\n"
          ]
        }
      ]
    },
    {
      "cell_type": "code",
      "source": [
        "cursor.execute(\"\"\"\n",
        "select ogrenci, avg(notu) as ortalama\n",
        "from notlar\n",
        "group by ogrenci\n",
        "having ortalama between 80 and 90\n",
        "\"\"\")\n",
        "print(cursor.fetchall())"
      ],
      "metadata": {
        "colab": {
          "base_uri": "https://localhost:8080/"
        },
        "id": "LcHA4SlAjWPS",
        "outputId": "cefffb23-770a-40d2-c8b5-ca645a1e00d7"
      },
      "execution_count": null,
      "outputs": [
        {
          "output_type": "stream",
          "name": "stdout",
          "text": [
            "[('Ali', 87.5), ('Ayşe', 81.0), ('Zeynep', 86.0)]\n"
          ]
        }
      ]
    },
    {
      "cell_type": "code",
      "source": [],
      "metadata": {
        "id": "wZXiH3JLjqkF"
      },
      "execution_count": null,
      "outputs": []
    }
  ]
}