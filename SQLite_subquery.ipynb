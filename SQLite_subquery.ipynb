{
  "nbformat": 4,
  "nbformat_minor": 0,
  "metadata": {
    "colab": {
      "provenance": [],
      "authorship_tag": "ABX9TyO+Fi0fLTi7Hrs5CpGn9Hpt",
      "include_colab_link": true
    },
    "kernelspec": {
      "name": "python3",
      "display_name": "Python 3"
    },
    "language_info": {
      "name": "python"
    }
  },
  "cells": [
    {
      "cell_type": "markdown",
      "metadata": {
        "id": "view-in-github",
        "colab_type": "text"
      },
      "source": [
        "<a href=\"https://colab.research.google.com/github/Batinnalp/SQLite-/blob/main/SQLite_subquery.ipynb\" target=\"_parent\"><img src=\"https://colab.research.google.com/assets/colab-badge.svg\" alt=\"Open In Colab\"/></a>"
      ]
    },
    {
      "cell_type": "code",
      "execution_count": null,
      "metadata": {
        "id": "I-briN4ucxN9"
      },
      "outputs": [],
      "source": [
        "import sqlite3\n",
        "conn = sqlite3.connect(\":memory:\")\n",
        "cursor = conn.cursor()\n",
        "\n",
        "cursor.execute(\"Create table ogrenciler (id integer primary key, ad text)\")\n",
        "cursor.execute(\"Create table notlar (ogrenci_id integer, ders text, notu integer)\")\n",
        "\n",
        "ogrenciler = [(1, \"Ali\"), (2, \"Ayşe\"), (3, \"Mehmet\"), (4, \"Zeynep\")]\n",
        "notlar = [\n",
        "    (1, \"Matematik\", 85),\n",
        "    (2, \"Matematik\", 92),\n",
        "    (3, \"Matematik\", 78),\n",
        "    (4, \"Matematik\", 88),\n",
        "    (2, \"Fen\", 90),\n",
        "    (3, \"Fen\", 70)\n",
        "]\n",
        "\n",
        "cursor.executemany(\"insert into ogrenciler (id, ad) values (?, ?)\", ogrenciler)\n",
        "cursor.executemany(\"insert into notlar (ogrenci_id, ders, notu) values (?, ?, ?)\", notlar)\n",
        "conn.commit()"
      ]
    },
    {
      "cell_type": "code",
      "source": [
        "cursor.execute(\"\"\"\n",
        "select ad\n",
        "from ogrenciler\n",
        "where id = (\n",
        "  select ogrenci_id\n",
        "  from notlar\n",
        "  where ders = 'Matematik'\n",
        "  order by notu desc\n",
        "  limit 1\n",
        ")\n",
        "\"\"\")\n",
        "print(cursor.fetchall())"
      ],
      "metadata": {
        "colab": {
          "base_uri": "https://localhost:8080/"
        },
        "id": "fnjbjwxtmT3m",
        "outputId": "cb9a3915-80b6-433d-98f9-60170b73548b"
      },
      "execution_count": null,
      "outputs": [
        {
          "output_type": "stream",
          "name": "stdout",
          "text": [
            "[('Ayşe',)]\n"
          ]
        }
      ]
    },
    {
      "cell_type": "code",
      "source": [
        "cursor.execute(\"\"\"\n",
        "select ad\n",
        "from ogrenciler\n",
        "where id in (\n",
        "  select ogrenci_id\n",
        "  from notlar\n",
        "  where ders = 'Matematik'\n",
        "  and notu > (\n",
        "    select avg(notu) from notlar where ders = 'Matematik'\n",
        "  )\n",
        ")\n",
        "\"\"\")\n",
        "print(cursor.fetchall())"
      ],
      "metadata": {
        "id": "iQt95SjGn_Jm",
        "colab": {
          "base_uri": "https://localhost:8080/"
        },
        "outputId": "43dfae38-7eca-4a3c-bfe8-ccdcef5640b8"
      },
      "execution_count": null,
      "outputs": [
        {
          "output_type": "stream",
          "name": "stdout",
          "text": [
            "[('Ayşe',), ('Zeynep',)]\n"
          ]
        }
      ]
    },
    {
      "cell_type": "code",
      "source": [
        "cursor.execute(\"\"\"\n",
        "select ad, notu\n",
        "from ogrenciler\n",
        "join notlar on ogrenciler.id = notlar.ogrenci_id\n",
        "where notu = (\n",
        "  select min(notu) from notlar\n",
        ")\n",
        "\"\"\")\n",
        "print(cursor.fetchall())"
      ],
      "metadata": {
        "colab": {
          "base_uri": "https://localhost:8080/"
        },
        "id": "enV4-1_h9OWU",
        "outputId": "acf762e8-cc45-422a-9886-44938f83e9d2"
      },
      "execution_count": null,
      "outputs": [
        {
          "output_type": "stream",
          "name": "stdout",
          "text": [
            "[('Mehmet', 70)]\n"
          ]
        }
      ]
    },
    {
      "cell_type": "code",
      "source": [
        "cursor.execute(\"\"\"\n",
        "select ad, (\n",
        "  select count(*)\n",
        "  from notlar\n",
        "  where ogrenciler.id = notlar.ogrenci_id\n",
        ") as ders_sayisi\n",
        "from ogrenciler\n",
        "\"\"\")\n",
        "print(cursor.fetchall())"
      ],
      "metadata": {
        "colab": {
          "base_uri": "https://localhost:8080/"
        },
        "id": "l-Eut3b59i98",
        "outputId": "0a697057-445d-4549-90d8-e074f56230a2"
      },
      "execution_count": null,
      "outputs": [
        {
          "output_type": "stream",
          "name": "stdout",
          "text": [
            "[('Ali', 1), ('Ayşe', 2), ('Mehmet', 2), ('Zeynep', 1)]\n"
          ]
        }
      ]
    },
    {
      "cell_type": "code",
      "source": [
        "cursor.execute(\"\"\"\n",
        "select ad\n",
        "from ogrenciler\n",
        "where id not in (\n",
        "  select distinct ogrenci_id from notlar\n",
        ")\n",
        "\"\"\")\n",
        "print(cursor.fetchall())"
      ],
      "metadata": {
        "colab": {
          "base_uri": "https://localhost:8080/"
        },
        "id": "gd8yxmDE-oSg",
        "outputId": "70d8fae0-428d-4c4e-d8a1-fd50f8aa959b"
      },
      "execution_count": null,
      "outputs": [
        {
          "output_type": "stream",
          "name": "stdout",
          "text": [
            "[]\n"
          ]
        }
      ]
    },
    {
      "cell_type": "code",
      "source": [],
      "metadata": {
        "id": "q3-7gBr_--NL"
      },
      "execution_count": null,
      "outputs": []
    }
  ]
}