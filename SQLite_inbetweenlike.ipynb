{
  "nbformat": 4,
  "nbformat_minor": 0,
  "metadata": {
    "colab": {
      "provenance": [],
      "authorship_tag": "ABX9TyPxNKVCL9ioATwMcyBC+xUJ",
      "include_colab_link": true
    },
    "kernelspec": {
      "name": "python3",
      "display_name": "Python 3"
    },
    "language_info": {
      "name": "python"
    }
  },
  "cells": [
    {
      "cell_type": "markdown",
      "metadata": {
        "id": "view-in-github",
        "colab_type": "text"
      },
      "source": [
        "<a href=\"https://colab.research.google.com/github/Batinnalp/SQLite-/blob/main/SQLite_inbetweenlike.ipynb\" target=\"_parent\"><img src=\"https://colab.research.google.com/assets/colab-badge.svg\" alt=\"Open In Colab\"/></a>"
      ]
    },
    {
      "cell_type": "code",
      "execution_count": null,
      "metadata": {
        "id": "qWrFO-vEk6gn"
      },
      "outputs": [],
      "source": [
        "import sqlite3\n",
        "conn = sqlite3.connect(\":memory:\")\n",
        "cursor = conn.cursor()\n",
        "\n",
        "cursor.execute(\"\"\"\n",
        "create table ogrenciler (\n",
        "  id integer primary key,\n",
        "  ad text,\n",
        "  yas integer\n",
        ")\n",
        "\"\"\")\n",
        "\n",
        "veriler = [\n",
        "    (\"Ali\", 10),\n",
        "    (\"Ayşe\", 12),\n",
        "    (\"Ahmet\", 11),\n",
        "    (\"Mehmet\", 13),\n",
        "    (\"Aslı\", 12),\n",
        "    (\"Zeynep\", 14)\n",
        "]\n",
        "\n",
        "cursor.executemany(\"insert into ogrenciler (ad, yas) values (?, ?)\", veriler)\n",
        "conn.commit()"
      ]
    },
    {
      "cell_type": "code",
      "source": [
        "cursor.execute(\"\"\"\n",
        "select * from ogrenciler\n",
        "where ad in('Ali', 'Ayşe', 'Ahmet')\n",
        "\"\"\")\n",
        "print(cursor.fetchall())"
      ],
      "metadata": {
        "colab": {
          "base_uri": "https://localhost:8080/"
        },
        "id": "18V3y_iFlpmj",
        "outputId": "0deb0c7e-63bf-4021-b13c-82213e21fcfc"
      },
      "execution_count": null,
      "outputs": [
        {
          "output_type": "stream",
          "name": "stdout",
          "text": [
            "[(1, 'Ali', 10), (2, 'Ayşe', 12), (3, 'Ahmet', 11)]\n"
          ]
        }
      ]
    },
    {
      "cell_type": "code",
      "source": [
        "cursor.execute(\"\"\"\n",
        "select * from ogrenciler\n",
        "where yas in(11, 12, 13)\n",
        "\"\"\")\n",
        "print(cursor.fetchall())"
      ],
      "metadata": {
        "colab": {
          "base_uri": "https://localhost:8080/"
        },
        "id": "F5UgHIIEl5Im",
        "outputId": "93c9c4c3-3dde-4820-e6dc-8bac900d2546"
      },
      "execution_count": null,
      "outputs": [
        {
          "output_type": "stream",
          "name": "stdout",
          "text": [
            "[(2, 'Ayşe', 12), (3, 'Ahmet', 11), (4, 'Mehmet', 13), (5, 'Aslı', 12)]\n"
          ]
        }
      ]
    },
    {
      "cell_type": "code",
      "source": [
        "cursor.execute(\"\"\"\n",
        "select * from ogrenciler\n",
        "where yas between 11 and 13\n",
        "\"\"\")\n",
        "print(cursor.fetchall())"
      ],
      "metadata": {
        "colab": {
          "base_uri": "https://localhost:8080/"
        },
        "id": "9gilblgbmIom",
        "outputId": "e303b042-5096-446d-d44c-77e72061c778"
      },
      "execution_count": null,
      "outputs": [
        {
          "output_type": "stream",
          "name": "stdout",
          "text": [
            "[(2, 'Ayşe', 12), (3, 'Ahmet', 11), (4, 'Mehmet', 13), (5, 'Aslı', 12)]\n"
          ]
        }
      ]
    },
    {
      "cell_type": "code",
      "source": [
        "cursor.execute(\"\"\"\n",
        "select * from ogrenciler\n",
        "where ad like 'A%'\n",
        "\"\"\")\n",
        "print(cursor.fetchall())"
      ],
      "metadata": {
        "colab": {
          "base_uri": "https://localhost:8080/"
        },
        "id": "r9nQIvgAmSsn",
        "outputId": "7ca8c844-0195-44ec-fbb5-0885d9983f7c"
      },
      "execution_count": null,
      "outputs": [
        {
          "output_type": "stream",
          "name": "stdout",
          "text": [
            "[(1, 'Ali', 10), (2, 'Ayşe', 12), (3, 'Ahmet', 11), (5, 'Aslı', 12)]\n"
          ]
        }
      ]
    },
    {
      "cell_type": "code",
      "source": [
        "cursor.execute(\"\"\"\n",
        "select * from ogrenciler\n",
        "where ad like '%me%'\n",
        "\"\"\")\n",
        "print(cursor.fetchall())"
      ],
      "metadata": {
        "colab": {
          "base_uri": "https://localhost:8080/"
        },
        "id": "CbHDXIeamr7t",
        "outputId": "c13e75be-9ecc-4ae6-f300-581360c58bb3"
      },
      "execution_count": null,
      "outputs": [
        {
          "output_type": "stream",
          "name": "stdout",
          "text": [
            "[(3, 'Ahmet', 11), (4, 'Mehmet', 13)]\n"
          ]
        }
      ]
    },
    {
      "cell_type": "code",
      "source": [],
      "metadata": {
        "id": "ow2f5dK6m7dG"
      },
      "execution_count": null,
      "outputs": []
    }
  ]
}